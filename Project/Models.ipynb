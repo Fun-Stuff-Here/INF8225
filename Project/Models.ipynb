{
  "cells": [
    {
      "cell_type": "code",
      "execution_count": 1,
      "metadata": {
        "colab": {
          "base_uri": "https://localhost:8080/"
        },
        "id": "P5WpE6-nb90Q",
        "outputId": "624d6f7e-25be-4c80-ac3e-2e53d825db58"
      },
      "outputs": [
        {
          "name": "stdout",
          "output_type": "stream",
          "text": [
            "Files already downloaded and verified\n",
            "Files already downloaded and verified\n",
            "Files already downloaded and verified\n"
          ]
        }
      ],
      "source": [
        "import sys\n",
        "sys.path.append('src')\n",
        "from src.config import Config\n",
        "from src.training.train import train_model\n",
        "import wandb\n",
        "\n",
        "\n",
        "residual_blocks_tiny = [\n",
        "    {\"num_channels\":16, \"output_channels\":32},\n",
        "    {\"num_channels\":32, \"output_channels\":64},\n",
        "    {\"num_channels\":64, \"output_channels\":128},\n",
        "]\n",
        "\n",
        "residual_blocks_small_tiny = [\n",
        "    {\"num_channels\":16, \"output_channels\":16},\n",
        "    {\"num_channels\":16, \"output_channels\":32},\n",
        "    {\"num_channels\":32, \"output_channels\":32},\n",
        "    {\"num_channels\":32, \"output_channels\":64},\n",
        "    {\"num_channels\":64, \"output_channels\":128},\n",
        "    {\"num_channels\":128, \"output_channels\":128},\n",
        "]\n",
        "\n",
        "residual_blocks_small = [\n",
        "    {\"num_channels\":16, \"output_channels\":16},\n",
        "    {\"num_channels\":16, \"output_channels\":16},\n",
        "    {\"num_channels\":16, \"output_channels\":32},\n",
        "    {\"num_channels\":32, \"output_channels\":32},\n",
        "    {\"num_channels\":32, \"output_channels\":64},\n",
        "    {\"num_channels\":64, \"output_channels\":64},\n",
        "    {\"num_channels\":64, \"output_channels\":128},\n",
        "    {\"num_channels\":128, \"output_channels\":128},\n",
        "]\n",
        "\n",
        "residual_blocks_medium = [\n",
        "    {\"num_channels\":16, \"output_channels\":16},\n",
        "    {\"num_channels\":16, \"output_channels\":16},\n",
        "    {\"num_channels\":16, \"output_channels\":16},\n",
        "    {\"num_channels\":16, \"output_channels\":32},\n",
        "    {\"num_channels\":32, \"output_channels\":32},\n",
        "    {\"num_channels\":32, \"output_channels\":32},\n",
        "    {\"num_channels\":32, \"output_channels\":32},\n",
        "    {\"num_channels\":32, \"output_channels\":64},\n",
        "    {\"num_channels\":64, \"output_channels\":64},\n",
        "    {\"num_channels\":64, \"output_channels\":64},\n",
        "    {\"num_channels\":64, \"output_channels\":64},\n",
        "    {\"num_channels\":64, \"output_channels\":64},\n",
        "    {\"num_channels\":64, \"output_channels\":64},\n",
        "    {\"num_channels\":64, \"output_channels\":128},\n",
        "    {\"num_channels\":128, \"output_channels\":128},\n",
        "    {\"num_channels\":128, \"output_channels\":128},\n",
        "]\n",
        "\n",
        "residual_blocks_large = [\n",
        "    {\"num_channels\":16, \"output_channels\":16},\n",
        "    {\"num_channels\":16, \"output_channels\":16},\n",
        "    {\"num_channels\":16, \"output_channels\":16},\n",
        "    {\"num_channels\":16, \"output_channels\":16},\n",
        "    {\"num_channels\":16, \"output_channels\":16},\n",
        "    {\"num_channels\":16, \"output_channels\":16},\n",
        "    {\"num_channels\":16, \"output_channels\":32},\n",
        "    {\"num_channels\":32, \"output_channels\":32},\n",
        "    {\"num_channels\":32, \"output_channels\":32},\n",
        "    {\"num_channels\":32, \"output_channels\":32},\n",
        "    {\"num_channels\":32, \"output_channels\":32},\n",
        "    {\"num_channels\":32, \"output_channels\":32},\n",
        "    {\"num_channels\":32, \"output_channels\":64},\n",
        "    {\"num_channels\":64, \"output_channels\":64},\n",
        "    {\"num_channels\":64, \"output_channels\":64},\n",
        "    {\"num_channels\":64, \"output_channels\":64},\n",
        "    {\"num_channels\":64, \"output_channels\":64},\n",
        "    {\"num_channels\":64, \"output_channels\":64},\n",
        "    {\"num_channels\":64, \"output_channels\":128},\n",
        "    {\"num_channels\":128, \"output_channels\":128},\n",
        "    {\"num_channels\":128, \"output_channels\":128},\n",
        "    {\"num_channels\":128, \"output_channels\":128},\n",
        "    {\"num_channels\":128, \"output_channels\":128},\n",
        "    {\"num_channels\":128, \"output_channels\":128},\n",
        "]"
      ]
    },
    {
      "cell_type": "code",
      "execution_count": 2,
      "metadata": {},
      "outputs": [
        {
          "name": "stderr",
          "output_type": "stream",
          "text": [
            "wandb: Appending key for api.wandb.ai to your netrc file: C:\\Users\\nicol/.netrc\n"
          ]
        },
        {
          "name": "stdout",
          "output_type": "stream",
          "text": [
            "W&B online. Running your script from this directory will now sync to the cloud.\n"
          ]
        },
        {
          "name": "stderr",
          "output_type": "stream",
          "text": [
            "Failed to detect the name of this notebook, you can set it manually with the WANDB_NOTEBOOK_NAME environment variable to enable code saving.\n",
            "\u001b[34m\u001b[1mwandb\u001b[0m: Currently logged in as: \u001b[33mnicolasdepelteau\u001b[0m (\u001b[33mfun-stuff\u001b[0m). Use \u001b[1m`wandb login --relogin`\u001b[0m to force relogin\n"
          ]
        },
        {
          "data": {
            "text/html": [
              "wandb version 0.15.0 is available!  To upgrade, please run:\n",
              " $ pip install wandb --upgrade"
            ],
            "text/plain": [
              "<IPython.core.display.HTML object>"
            ]
          },
          "metadata": {},
          "output_type": "display_data"
        },
        {
          "data": {
            "text/html": [
              "Tracking run with wandb version 0.14.0"
            ],
            "text/plain": [
              "<IPython.core.display.HTML object>"
            ]
          },
          "metadata": {},
          "output_type": "display_data"
        },
        {
          "data": {
            "text/html": [
              "Run data is saved locally in <code>c:\\Users\\nicol\\Documents\\GitHub\\INF8225\\Project\\wandb\\run-20230429_131510-3q9erth3</code>"
            ],
            "text/plain": [
              "<IPython.core.display.HTML object>"
            ]
          },
          "metadata": {},
          "output_type": "display_data"
        },
        {
          "data": {
            "text/html": [
              "Syncing run <strong><a href='https://wandb.ai/fun-stuff/INF8225%20-%20Project/runs/3q9erth3' target=\"_blank\">Resnet-8</a></strong> to <a href='https://wandb.ai/fun-stuff/INF8225%20-%20Project' target=\"_blank\">Weights & Biases</a> (<a href='https://wandb.me/run' target=\"_blank\">docs</a>)<br/>"
            ],
            "text/plain": [
              "<IPython.core.display.HTML object>"
            ]
          },
          "metadata": {},
          "output_type": "display_data"
        },
        {
          "data": {
            "text/html": [
              " View project at <a href='https://wandb.ai/fun-stuff/INF8225%20-%20Project' target=\"_blank\">https://wandb.ai/fun-stuff/INF8225%20-%20Project</a>"
            ],
            "text/plain": [
              "<IPython.core.display.HTML object>"
            ]
          },
          "metadata": {},
          "output_type": "display_data"
        },
        {
          "data": {
            "text/html": [
              " View run at <a href='https://wandb.ai/fun-stuff/INF8225%20-%20Project/runs/3q9erth3' target=\"_blank\">https://wandb.ai/fun-stuff/INF8225%20-%20Project/runs/3q9erth3</a>"
            ],
            "text/plain": [
              "<IPython.core.display.HTML object>"
            ]
          },
          "metadata": {},
          "output_type": "display_data"
        },
        {
          "name": "stdout",
          "output_type": "stream",
          "text": [
            "Starting training for 30 epochs, using cuda.\n",
            "\n",
            "Epoch 1\n",
            "Train -   loss: 2.19     training_accuracy: 0.21\n",
            "\n",
            "Epoch 2\n",
            "Train -   loss: 2.15     training_accuracy: 0.29\n",
            "\n",
            "Epoch 3\n",
            "Train -   loss: 2.10     training_accuracy: 0.33\n",
            "\n",
            "Epoch 4\n",
            "Train -   loss: 2.05     training_accuracy: 0.37\n",
            "\n",
            "Epoch 5\n",
            "Train -   loss: 2.00     training_accuracy: 0.44\n",
            "\n",
            "Epoch 6\n",
            "Train -   loss: 1.98     training_accuracy: 0.48\n",
            "\n",
            "Epoch 7\n",
            "Train -   loss: 1.95     training_accuracy: 0.50\n",
            "\n",
            "Epoch 8\n",
            "Train -   loss: 1.93     training_accuracy: 0.53\n",
            "\n",
            "Epoch 9\n",
            "Train -   loss: 1.89     training_accuracy: 0.55\n",
            "\n",
            "Epoch 10\n",
            "Train -   loss: 1.88     training_accuracy: 0.57\n",
            "\n",
            "Epoch 11\n",
            "Train -   loss: 1.88     training_accuracy: 0.59\n",
            "\n",
            "Epoch 12\n",
            "Train -   loss: 1.85     training_accuracy: 0.61\n",
            "\n",
            "Epoch 13\n",
            "Train -   loss: 1.83     training_accuracy: 0.62\n",
            "\n",
            "Epoch 14\n",
            "Train -   loss: 1.82     training_accuracy: 0.64\n",
            "\n",
            "Epoch 15\n",
            "Train -   loss: 1.80     training_accuracy: 0.65\n",
            "\n",
            "Epoch 16\n",
            "Train -   loss: 1.81     training_accuracy: 0.66\n",
            "\n",
            "Epoch 17\n",
            "Train -   loss: 1.79     training_accuracy: 0.67\n",
            "\n",
            "Epoch 18\n",
            "Train -   loss: 1.78     training_accuracy: 0.68\n",
            "\n",
            "Epoch 19\n",
            "Train -   loss: 1.77     training_accuracy: 0.69\n",
            "\n",
            "Epoch 20\n",
            "Train -   loss: 1.76     training_accuracy: 0.70\n",
            "\n",
            "Epoch 21\n",
            "Train -   loss: 1.76     training_accuracy: 0.71\n",
            "\n",
            "Epoch 22\n",
            "Train -   loss: 1.75     training_accuracy: 0.72\n",
            "\n",
            "Epoch 23\n",
            "Train -   loss: 1.75     training_accuracy: 0.72\n",
            "\n",
            "Epoch 24\n",
            "Train -   loss: 1.74     training_accuracy: 0.73\n",
            "\n",
            "Epoch 25\n",
            "Train -   loss: 1.71     training_accuracy: 0.74\n",
            "\n",
            "Epoch 26\n",
            "Train -   loss: 1.71     training_accuracy: 0.75\n",
            "\n",
            "Epoch 27\n",
            "Train -   loss: 1.70     training_accuracy: 0.76\n",
            "\n",
            "Epoch 28\n",
            "Train -   loss: 1.70     training_accuracy: 0.76\n",
            "\n",
            "Epoch 29\n",
            "Train -   loss: 1.68     training_accuracy: 0.77\n",
            "\n",
            "Epoch 30\n",
            "Train -   loss: 1.69     training_accuracy: 0.78\n"
          ]
        },
        {
          "data": {
            "text/html": [
              "Waiting for W&B process to finish... <strong style=\"color:green\">(success).</strong>"
            ],
            "text/plain": [
              "<IPython.core.display.HTML object>"
            ]
          },
          "metadata": {},
          "output_type": "display_data"
        },
        {
          "data": {
            "text/html": [
              "<style>\n",
              "    table.wandb td:nth-child(1) { padding: 0 10px; text-align: left ; width: auto;} td:nth-child(2) {text-align: left ; width: 100%}\n",
              "    .wandb-row { display: flex; flex-direction: row; flex-wrap: wrap; justify-content: flex-start; width: 100% }\n",
              "    .wandb-col { display: flex; flex-direction: column; flex-basis: 100%; flex: 1; padding: 10px; }\n",
              "    </style>\n",
              "<div class=\"wandb-row\"><div class=\"wandb-col\"><h3>Run history:</h3><br/><table class=\"wandb\"><tr><td>loss</td><td>█▇▇▆▆▆▅▅▄▄▄▄▃▄▃▃▃▃▃▃▃▂▂▂▂▂▂▂▂▂▂▁▁▁▁▁▁▁▁▁</td></tr><tr><td>training_accuracy</td><td>▁▂▃▃▃▃▄▅▅▅▅▅▆▆▆▆▆▆▆▇▇▇▇▇▇▇▇▇▇█▇█████████</td></tr><tr><td>validation_accuracy</td><td>▁▃▃▃▄▅▅▅▆▆▆▆▆▆▇▇▇▇▇▇▇▇█▇▇█████</td></tr></table><br/></div><div class=\"wandb-col\"><h3>Run summary:</h3><br/><table class=\"wandb\"><tr><td>loss</td><td>1.69397</td></tr><tr><td>training_accuracy</td><td>0.77682</td></tr><tr><td>validation_accuracy</td><td>0.78136</td></tr></table><br/></div></div>"
            ],
            "text/plain": [
              "<IPython.core.display.HTML object>"
            ]
          },
          "metadata": {},
          "output_type": "display_data"
        },
        {
          "data": {
            "text/html": [
              " View run <strong style=\"color:#cdcd00\">Resnet-8</strong> at: <a href='https://wandb.ai/fun-stuff/INF8225%20-%20Project/runs/3q9erth3' target=\"_blank\">https://wandb.ai/fun-stuff/INF8225%20-%20Project/runs/3q9erth3</a><br/>Synced 6 W&B file(s), 0 media file(s), 0 artifact file(s) and 1 other file(s)"
            ],
            "text/plain": [
              "<IPython.core.display.HTML object>"
            ]
          },
          "metadata": {},
          "output_type": "display_data"
        },
        {
          "data": {
            "text/html": [
              "Find logs at: <code>.\\wandb\\run-20230429_131510-3q9erth3\\logs</code>"
            ],
            "text/plain": [
              "<IPython.core.display.HTML object>"
            ]
          },
          "metadata": {},
          "output_type": "display_data"
        },
        {
          "data": {
            "text/html": [
              "wandb version 0.15.0 is available!  To upgrade, please run:\n",
              " $ pip install wandb --upgrade"
            ],
            "text/plain": [
              "<IPython.core.display.HTML object>"
            ]
          },
          "metadata": {},
          "output_type": "display_data"
        },
        {
          "data": {
            "text/html": [
              "Tracking run with wandb version 0.14.0"
            ],
            "text/plain": [
              "<IPython.core.display.HTML object>"
            ]
          },
          "metadata": {},
          "output_type": "display_data"
        },
        {
          "data": {
            "text/html": [
              "Run data is saved locally in <code>c:\\Users\\nicol\\Documents\\GitHub\\INF8225\\Project\\wandb\\run-20230429_133501-q2pdi9jj</code>"
            ],
            "text/plain": [
              "<IPython.core.display.HTML object>"
            ]
          },
          "metadata": {},
          "output_type": "display_data"
        },
        {
          "data": {
            "text/html": [
              "Syncing run <strong><a href='https://wandb.ai/fun-stuff/INF8225%20-%20Project/runs/q2pdi9jj' target=\"_blank\">Resnet-14</a></strong> to <a href='https://wandb.ai/fun-stuff/INF8225%20-%20Project' target=\"_blank\">Weights & Biases</a> (<a href='https://wandb.me/run' target=\"_blank\">docs</a>)<br/>"
            ],
            "text/plain": [
              "<IPython.core.display.HTML object>"
            ]
          },
          "metadata": {},
          "output_type": "display_data"
        },
        {
          "data": {
            "text/html": [
              " View project at <a href='https://wandb.ai/fun-stuff/INF8225%20-%20Project' target=\"_blank\">https://wandb.ai/fun-stuff/INF8225%20-%20Project</a>"
            ],
            "text/plain": [
              "<IPython.core.display.HTML object>"
            ]
          },
          "metadata": {},
          "output_type": "display_data"
        },
        {
          "data": {
            "text/html": [
              " View run at <a href='https://wandb.ai/fun-stuff/INF8225%20-%20Project/runs/q2pdi9jj' target=\"_blank\">https://wandb.ai/fun-stuff/INF8225%20-%20Project/runs/q2pdi9jj</a>"
            ],
            "text/plain": [
              "<IPython.core.display.HTML object>"
            ]
          },
          "metadata": {},
          "output_type": "display_data"
        },
        {
          "name": "stdout",
          "output_type": "stream",
          "text": [
            "Starting training for 30 epochs, using cuda.\n",
            "\n",
            "Epoch 1\n",
            "Train -   loss: 2.17     training_accuracy: 0.23\n",
            "\n",
            "Epoch 2\n",
            "Train -   loss: 2.08     training_accuracy: 0.34\n",
            "\n",
            "Epoch 3\n",
            "Train -   loss: 2.04     training_accuracy: 0.40\n",
            "\n",
            "Epoch 4\n",
            "Train -   loss: 2.01     training_accuracy: 0.43\n",
            "\n",
            "Epoch 5\n",
            "Train -   loss: 2.01     training_accuracy: 0.46\n",
            "\n",
            "Epoch 6\n",
            "Train -   loss: 1.96     training_accuracy: 0.48\n",
            "\n",
            "Epoch 7\n",
            "Train -   loss: 1.93     training_accuracy: 0.51\n",
            "\n",
            "Epoch 8\n",
            "Train -   loss: 1.91     training_accuracy: 0.53\n",
            "\n",
            "Epoch 9\n",
            "Train -   loss: 1.90     training_accuracy: 0.56\n",
            "\n",
            "Epoch 10\n",
            "Train -   loss: 1.89     training_accuracy: 0.57\n",
            "\n",
            "Epoch 11\n",
            "Train -   loss: 1.85     training_accuracy: 0.59\n",
            "\n",
            "Epoch 12\n",
            "Train -   loss: 1.84     training_accuracy: 0.61\n",
            "\n",
            "Epoch 13\n",
            "Train -   loss: 1.83     training_accuracy: 0.62\n",
            "\n",
            "Epoch 14\n",
            "Train -   loss: 1.83     training_accuracy: 0.63\n",
            "\n",
            "Epoch 15\n",
            "Train -   loss: 1.83     training_accuracy: 0.64\n",
            "\n",
            "Epoch 16\n",
            "Train -   loss: 1.81     training_accuracy: 0.64\n",
            "\n",
            "Epoch 17\n",
            "Train -   loss: 1.80     training_accuracy: 0.65\n",
            "\n",
            "Epoch 18\n",
            "Train -   loss: 1.80     training_accuracy: 0.66\n",
            "\n",
            "Epoch 19\n",
            "Train -   loss: 1.79     training_accuracy: 0.67\n",
            "\n",
            "Epoch 20\n",
            "Train -   loss: 1.79     training_accuracy: 0.67\n",
            "\n",
            "Epoch 21\n",
            "Train -   loss: 1.81     training_accuracy: 0.67\n",
            "\n",
            "Epoch 22\n",
            "Train -   loss: 1.78     training_accuracy: 0.68\n",
            "\n",
            "Epoch 23\n",
            "Train -   loss: 1.80     training_accuracy: 0.67\n",
            "\n",
            "Epoch 24\n",
            "Train -   loss: 1.77     training_accuracy: 0.68\n",
            "\n",
            "Epoch 25\n",
            "Train -   loss: 1.76     training_accuracy: 0.67\n",
            "\n",
            "Epoch 26\n",
            "Train -   loss: 1.78     training_accuracy: 0.68\n",
            "\n",
            "Epoch 27\n",
            "Train -   loss: 1.79     training_accuracy: 0.67\n",
            "\n",
            "Epoch 28\n",
            "Train -   loss: 1.80     training_accuracy: 0.67\n",
            "\n",
            "Epoch 29\n",
            "Train -   loss: 1.80     training_accuracy: 0.66\n",
            "\n",
            "Epoch 30\n",
            "Train -   loss: 1.82     training_accuracy: 0.65\n"
          ]
        },
        {
          "data": {
            "text/html": [
              "Waiting for W&B process to finish... <strong style=\"color:green\">(success).</strong>"
            ],
            "text/plain": [
              "<IPython.core.display.HTML object>"
            ]
          },
          "metadata": {},
          "output_type": "display_data"
        },
        {
          "data": {
            "text/html": [
              "<style>\n",
              "    table.wandb td:nth-child(1) { padding: 0 10px; text-align: left ; width: auto;} td:nth-child(2) {text-align: left ; width: 100%}\n",
              "    .wandb-row { display: flex; flex-direction: row; flex-wrap: wrap; justify-content: flex-start; width: 100% }\n",
              "    .wandb-col { display: flex; flex-direction: column; flex-basis: 100%; flex: 1; padding: 10px; }\n",
              "    </style>\n",
              "<div class=\"wandb-row\"><div class=\"wandb-col\"><h3>Run history:</h3><br/><table class=\"wandb\"><tr><td>loss</td><td>█▇▆▅▅▄▄▄▄▃▃▃▃▃▂▂▂▂▂▂▂▁▁▂▁▁▁▁▁▁▁▁▁▁▁▁▂▁▁▂</td></tr><tr><td>training_accuracy</td><td>▁▂▄▄▅▅▅▆▆▆▆▆▇▇▇▇▇▇▇▇████████████████████</td></tr><tr><td>validation_accuracy</td><td>▁▃▄▅▅▅▆▆▆▆▇▇▇▇▇▇█████▇██████▇█</td></tr></table><br/></div><div class=\"wandb-col\"><h3>Run summary:</h3><br/><table class=\"wandb\"><tr><td>loss</td><td>1.81303</td></tr><tr><td>training_accuracy</td><td>0.65111</td></tr><tr><td>validation_accuracy</td><td>0.65942</td></tr></table><br/></div></div>"
            ],
            "text/plain": [
              "<IPython.core.display.HTML object>"
            ]
          },
          "metadata": {},
          "output_type": "display_data"
        },
        {
          "data": {
            "text/html": [
              " View run <strong style=\"color:#cdcd00\">Resnet-14</strong> at: <a href='https://wandb.ai/fun-stuff/INF8225%20-%20Project/runs/q2pdi9jj' target=\"_blank\">https://wandb.ai/fun-stuff/INF8225%20-%20Project/runs/q2pdi9jj</a><br/>Synced 6 W&B file(s), 0 media file(s), 0 artifact file(s) and 1 other file(s)"
            ],
            "text/plain": [
              "<IPython.core.display.HTML object>"
            ]
          },
          "metadata": {},
          "output_type": "display_data"
        },
        {
          "data": {
            "text/html": [
              "Find logs at: <code>.\\wandb\\run-20230429_133501-q2pdi9jj\\logs</code>"
            ],
            "text/plain": [
              "<IPython.core.display.HTML object>"
            ]
          },
          "metadata": {},
          "output_type": "display_data"
        },
        {
          "data": {
            "text/html": [
              "wandb version 0.15.0 is available!  To upgrade, please run:\n",
              " $ pip install wandb --upgrade"
            ],
            "text/plain": [
              "<IPython.core.display.HTML object>"
            ]
          },
          "metadata": {},
          "output_type": "display_data"
        },
        {
          "data": {
            "text/html": [
              "Tracking run with wandb version 0.14.0"
            ],
            "text/plain": [
              "<IPython.core.display.HTML object>"
            ]
          },
          "metadata": {},
          "output_type": "display_data"
        },
        {
          "data": {
            "text/html": [
              "Run data is saved locally in <code>c:\\Users\\nicol\\Documents\\GitHub\\INF8225\\Project\\wandb\\run-20230429_135710-z2yjquif</code>"
            ],
            "text/plain": [
              "<IPython.core.display.HTML object>"
            ]
          },
          "metadata": {},
          "output_type": "display_data"
        },
        {
          "data": {
            "text/html": [
              "Syncing run <strong><a href='https://wandb.ai/fun-stuff/INF8225%20-%20Project/runs/z2yjquif' target=\"_blank\">Resnet-18</a></strong> to <a href='https://wandb.ai/fun-stuff/INF8225%20-%20Project' target=\"_blank\">Weights & Biases</a> (<a href='https://wandb.me/run' target=\"_blank\">docs</a>)<br/>"
            ],
            "text/plain": [
              "<IPython.core.display.HTML object>"
            ]
          },
          "metadata": {},
          "output_type": "display_data"
        },
        {
          "data": {
            "text/html": [
              " View project at <a href='https://wandb.ai/fun-stuff/INF8225%20-%20Project' target=\"_blank\">https://wandb.ai/fun-stuff/INF8225%20-%20Project</a>"
            ],
            "text/plain": [
              "<IPython.core.display.HTML object>"
            ]
          },
          "metadata": {},
          "output_type": "display_data"
        },
        {
          "data": {
            "text/html": [
              " View run at <a href='https://wandb.ai/fun-stuff/INF8225%20-%20Project/runs/z2yjquif' target=\"_blank\">https://wandb.ai/fun-stuff/INF8225%20-%20Project/runs/z2yjquif</a>"
            ],
            "text/plain": [
              "<IPython.core.display.HTML object>"
            ]
          },
          "metadata": {},
          "output_type": "display_data"
        },
        {
          "name": "stdout",
          "output_type": "stream",
          "text": [
            "Starting training for 30 epochs, using cuda.\n",
            "\n",
            "Epoch 1\n",
            "Train -   loss: 2.14     training_accuracy: 0.25\n",
            "\n",
            "Epoch 2\n",
            "Train -   loss: 2.07     training_accuracy: 0.35\n",
            "\n",
            "Epoch 3\n",
            "Train -   loss: 2.03     training_accuracy: 0.40\n",
            "\n",
            "Epoch 4\n",
            "Train -   loss: 2.03     training_accuracy: 0.43\n",
            "\n",
            "Epoch 5\n",
            "Train -   loss: 1.99     training_accuracy: 0.46\n",
            "\n",
            "Epoch 6\n",
            "Train -   loss: 1.97     training_accuracy: 0.48\n",
            "\n",
            "Epoch 7\n",
            "Train -   loss: 1.94     training_accuracy: 0.51\n",
            "\n",
            "Epoch 8\n",
            "Train -   loss: 1.93     training_accuracy: 0.53\n",
            "\n",
            "Epoch 9\n",
            "Train -   loss: 1.89     training_accuracy: 0.55\n",
            "\n",
            "Epoch 10\n",
            "Train -   loss: 1.90     training_accuracy: 0.56\n",
            "\n",
            "Epoch 11\n",
            "Train -   loss: 1.87     training_accuracy: 0.58\n",
            "\n",
            "Epoch 12\n",
            "Train -   loss: 1.87     training_accuracy: 0.59\n",
            "\n",
            "Epoch 13\n",
            "Train -   loss: 1.84     training_accuracy: 0.60\n",
            "\n",
            "Epoch 14\n",
            "Train -   loss: 1.85     training_accuracy: 0.62\n",
            "\n",
            "Epoch 15\n",
            "Train -   loss: 1.83     training_accuracy: 0.62\n",
            "\n",
            "Epoch 16\n",
            "Train -   loss: 1.83     training_accuracy: 0.63\n",
            "\n",
            "Epoch 17\n",
            "Train -   loss: 1.82     training_accuracy: 0.64\n",
            "\n",
            "Epoch 18\n",
            "Train -   loss: 1.82     training_accuracy: 0.64\n",
            "\n",
            "Epoch 19\n",
            "Train -   loss: 1.81     training_accuracy: 0.65\n",
            "\n",
            "Epoch 20\n",
            "Train -   loss: 1.78     training_accuracy: 0.66\n",
            "\n",
            "Epoch 21\n",
            "Train -   loss: 1.83     training_accuracy: 0.67\n",
            "\n",
            "Epoch 22\n",
            "Train -   loss: 1.79     training_accuracy: 0.67\n",
            "\n",
            "Epoch 23\n",
            "Train -   loss: 1.78     training_accuracy: 0.68\n",
            "\n",
            "Epoch 24\n",
            "Train -   loss: 1.77     training_accuracy: 0.68\n",
            "\n",
            "Epoch 25\n",
            "Train -   loss: 1.79     training_accuracy: 0.68\n",
            "\n",
            "Epoch 26\n",
            "Train -   loss: 1.78     training_accuracy: 0.68\n",
            "\n",
            "Epoch 27\n",
            "Train -   loss: 1.78     training_accuracy: 0.68\n",
            "\n",
            "Epoch 28\n",
            "Train -   loss: 1.78     training_accuracy: 0.68\n",
            "\n",
            "Epoch 29\n",
            "Train -   loss: 1.80     training_accuracy: 0.68\n",
            "\n",
            "Epoch 30\n",
            "Train -   loss: 1.79     training_accuracy: 0.68\n"
          ]
        },
        {
          "data": {
            "text/html": [
              "Waiting for W&B process to finish... <strong style=\"color:green\">(success).</strong>"
            ],
            "text/plain": [
              "<IPython.core.display.HTML object>"
            ]
          },
          "metadata": {},
          "output_type": "display_data"
        },
        {
          "data": {
            "text/html": [
              "<style>\n",
              "    table.wandb td:nth-child(1) { padding: 0 10px; text-align: left ; width: auto;} td:nth-child(2) {text-align: left ; width: 100%}\n",
              "    .wandb-row { display: flex; flex-direction: row; flex-wrap: wrap; justify-content: flex-start; width: 100% }\n",
              "    .wandb-col { display: flex; flex-direction: column; flex-basis: 100%; flex: 1; padding: 10px; }\n",
              "    </style>\n",
              "<div class=\"wandb-row\"><div class=\"wandb-col\"><h3>Run history:</h3><br/><table class=\"wandb\"><tr><td>loss</td><td>█▆▅▅▄▄▄▄▄▃▃▃▃▃▂▂▂▂▂▂▂▂▂▂▁▁▁▁▁▁▁▁▁▁▁▁▁▁▁▁</td></tr><tr><td>training_accuracy</td><td>▁▃▄▄▅▅▅▅▆▆▆▆▆▆▇▇▆▇▇▇▇▇▇▇████████████████</td></tr><tr><td>validation_accuracy</td><td>▁▃▄▅▅▆▆▆▆▆▇▇▆▇▇▇▇▇███▇████████</td></tr></table><br/></div><div class=\"wandb-col\"><h3>Run summary:</h3><br/><table class=\"wandb\"><tr><td>loss</td><td>1.78411</td></tr><tr><td>training_accuracy</td><td>0.68357</td></tr><tr><td>validation_accuracy</td><td>0.67298</td></tr></table><br/></div></div>"
            ],
            "text/plain": [
              "<IPython.core.display.HTML object>"
            ]
          },
          "metadata": {},
          "output_type": "display_data"
        },
        {
          "data": {
            "text/html": [
              " View run <strong style=\"color:#cdcd00\">Resnet-18</strong> at: <a href='https://wandb.ai/fun-stuff/INF8225%20-%20Project/runs/z2yjquif' target=\"_blank\">https://wandb.ai/fun-stuff/INF8225%20-%20Project/runs/z2yjquif</a><br/>Synced 6 W&B file(s), 0 media file(s), 0 artifact file(s) and 1 other file(s)"
            ],
            "text/plain": [
              "<IPython.core.display.HTML object>"
            ]
          },
          "metadata": {},
          "output_type": "display_data"
        },
        {
          "data": {
            "text/html": [
              "Find logs at: <code>.\\wandb\\run-20230429_135710-z2yjquif\\logs</code>"
            ],
            "text/plain": [
              "<IPython.core.display.HTML object>"
            ]
          },
          "metadata": {},
          "output_type": "display_data"
        },
        {
          "data": {
            "text/html": [
              "wandb version 0.15.0 is available!  To upgrade, please run:\n",
              " $ pip install wandb --upgrade"
            ],
            "text/plain": [
              "<IPython.core.display.HTML object>"
            ]
          },
          "metadata": {},
          "output_type": "display_data"
        },
        {
          "data": {
            "text/html": [
              "Tracking run with wandb version 0.14.0"
            ],
            "text/plain": [
              "<IPython.core.display.HTML object>"
            ]
          },
          "metadata": {},
          "output_type": "display_data"
        },
        {
          "data": {
            "text/html": [
              "Run data is saved locally in <code>c:\\Users\\nicol\\Documents\\GitHub\\INF8225\\Project\\wandb\\run-20230429_142224-di3owuc6</code>"
            ],
            "text/plain": [
              "<IPython.core.display.HTML object>"
            ]
          },
          "metadata": {},
          "output_type": "display_data"
        },
        {
          "data": {
            "text/html": [
              "Syncing run <strong><a href='https://wandb.ai/fun-stuff/INF8225%20-%20Project/runs/di3owuc6' target=\"_blank\">Resnet-34</a></strong> to <a href='https://wandb.ai/fun-stuff/INF8225%20-%20Project' target=\"_blank\">Weights & Biases</a> (<a href='https://wandb.me/run' target=\"_blank\">docs</a>)<br/>"
            ],
            "text/plain": [
              "<IPython.core.display.HTML object>"
            ]
          },
          "metadata": {},
          "output_type": "display_data"
        },
        {
          "data": {
            "text/html": [
              " View project at <a href='https://wandb.ai/fun-stuff/INF8225%20-%20Project' target=\"_blank\">https://wandb.ai/fun-stuff/INF8225%20-%20Project</a>"
            ],
            "text/plain": [
              "<IPython.core.display.HTML object>"
            ]
          },
          "metadata": {},
          "output_type": "display_data"
        },
        {
          "data": {
            "text/html": [
              " View run at <a href='https://wandb.ai/fun-stuff/INF8225%20-%20Project/runs/di3owuc6' target=\"_blank\">https://wandb.ai/fun-stuff/INF8225%20-%20Project/runs/di3owuc6</a>"
            ],
            "text/plain": [
              "<IPython.core.display.HTML object>"
            ]
          },
          "metadata": {},
          "output_type": "display_data"
        },
        {
          "name": "stdout",
          "output_type": "stream",
          "text": [
            "Starting training for 30 epochs, using cuda.\n",
            "\n",
            "Epoch 1\n",
            "Train -   loss: 2.15     training_accuracy: 0.23\n",
            "\n",
            "Epoch 2\n",
            "Train -   loss: 2.11     training_accuracy: 0.32\n",
            "\n",
            "Epoch 3\n",
            "Train -   loss: 2.09     training_accuracy: 0.35\n",
            "\n",
            "Epoch 4\n",
            "Train -   loss: 2.07     training_accuracy: 0.38\n",
            "\n",
            "Epoch 5\n",
            "Train -   loss: 2.05     training_accuracy: 0.39\n",
            "\n",
            "Epoch 6\n",
            "Train -   loss: 2.03     training_accuracy: 0.42\n",
            "\n",
            "Epoch 7\n",
            "Train -   loss: 2.00     training_accuracy: 0.44\n",
            "\n",
            "Epoch 8\n",
            "Train -   loss: 1.98     training_accuracy: 0.46\n",
            "\n",
            "Epoch 9\n",
            "Train -   loss: 1.96     training_accuracy: 0.48\n",
            "\n",
            "Epoch 10\n",
            "Train -   loss: 1.95     training_accuracy: 0.50\n",
            "\n",
            "Epoch 11\n",
            "Train -   loss: 1.94     training_accuracy: 0.51\n",
            "\n",
            "Epoch 12\n",
            "Train -   loss: 1.92     training_accuracy: 0.53\n",
            "\n",
            "Epoch 13\n",
            "Train -   loss: 1.91     training_accuracy: 0.54\n",
            "\n",
            "Epoch 14\n",
            "Train -   loss: 1.91     training_accuracy: 0.54\n",
            "\n",
            "Epoch 15\n",
            "Train -   loss: 1.91     training_accuracy: 0.56\n",
            "\n",
            "Epoch 16\n",
            "Train -   loss: 1.89     training_accuracy: 0.56\n",
            "\n",
            "Epoch 17\n",
            "Train -   loss: 1.88     training_accuracy: 0.57\n",
            "\n",
            "Epoch 18\n",
            "Train -   loss: 1.86     training_accuracy: 0.59\n",
            "\n",
            "Epoch 19\n",
            "Train -   loss: 1.86     training_accuracy: 0.59\n",
            "\n",
            "Epoch 20\n",
            "Train -   loss: 1.85     training_accuracy: 0.60\n",
            "\n",
            "Epoch 21\n",
            "Train -   loss: 1.88     training_accuracy: 0.60\n",
            "\n",
            "Epoch 22\n",
            "Train -   loss: 1.87     training_accuracy: 0.60\n",
            "\n",
            "Epoch 23\n",
            "Train -   loss: 1.88     training_accuracy: 0.61\n",
            "\n",
            "Epoch 24\n",
            "Train -   loss: 1.82     training_accuracy: 0.60\n",
            "\n",
            "Epoch 25\n",
            "Train -   loss: 1.84     training_accuracy: 0.62\n",
            "\n",
            "Epoch 26\n",
            "Train -   loss: 1.82     training_accuracy: 0.62\n",
            "\n",
            "Epoch 27\n",
            "Train -   loss: 1.82     training_accuracy: 0.63\n",
            "\n",
            "Epoch 28\n",
            "Train -   loss: 1.83     training_accuracy: 0.63\n",
            "\n",
            "Epoch 29\n",
            "Train -   loss: 1.83     training_accuracy: 0.64\n",
            "\n",
            "Epoch 30\n",
            "Train -   loss: 1.79     training_accuracy: 0.65\n"
          ]
        },
        {
          "data": {
            "text/html": [
              "Waiting for W&B process to finish... <strong style=\"color:green\">(success).</strong>"
            ],
            "text/plain": [
              "<IPython.core.display.HTML object>"
            ]
          },
          "metadata": {},
          "output_type": "display_data"
        },
        {
          "data": {
            "text/html": [
              "<style>\n",
              "    table.wandb td:nth-child(1) { padding: 0 10px; text-align: left ; width: auto;} td:nth-child(2) {text-align: left ; width: 100%}\n",
              "    .wandb-row { display: flex; flex-direction: row; flex-wrap: wrap; justify-content: flex-start; width: 100% }\n",
              "    .wandb-col { display: flex; flex-direction: column; flex-basis: 100%; flex: 1; padding: 10px; }\n",
              "    </style>\n",
              "<div class=\"wandb-row\"><div class=\"wandb-col\"><h3>Run history:</h3><br/><table class=\"wandb\"><tr><td>loss</td><td>█▆▆▅▅▅▄▄▄▄▄▃▃▃▃▃▃▃▃▂▂▂▂▂▂▂▂▂▂▂▁▂▁▂▁▁▁▁▁▁</td></tr><tr><td>training_accuracy</td><td>▁▂▄▄▄▄▅▅▅▅▅▆▆▆▆▆▆▇▇▇▇▇▇▇▇▇▇▇▇▇▇▇█▇▇█████</td></tr><tr><td>validation_accuracy</td><td>▁▄▄▅▅▅▅▅▆▆▆▆▇▇▇▇▇▇▇▇▇▇▇▇██████</td></tr></table><br/></div><div class=\"wandb-col\"><h3>Run summary:</h3><br/><table class=\"wandb\"><tr><td>loss</td><td>1.81058</td></tr><tr><td>training_accuracy</td><td>0.65194</td></tr><tr><td>validation_accuracy</td><td>0.64366</td></tr></table><br/></div></div>"
            ],
            "text/plain": [
              "<IPython.core.display.HTML object>"
            ]
          },
          "metadata": {},
          "output_type": "display_data"
        },
        {
          "data": {
            "text/html": [
              " View run <strong style=\"color:#cdcd00\">Resnet-34</strong> at: <a href='https://wandb.ai/fun-stuff/INF8225%20-%20Project/runs/di3owuc6' target=\"_blank\">https://wandb.ai/fun-stuff/INF8225%20-%20Project/runs/di3owuc6</a><br/>Synced 6 W&B file(s), 0 media file(s), 0 artifact file(s) and 1 other file(s)"
            ],
            "text/plain": [
              "<IPython.core.display.HTML object>"
            ]
          },
          "metadata": {},
          "output_type": "display_data"
        },
        {
          "data": {
            "text/html": [
              "Find logs at: <code>.\\wandb\\run-20230429_142224-di3owuc6\\logs</code>"
            ],
            "text/plain": [
              "<IPython.core.display.HTML object>"
            ]
          },
          "metadata": {},
          "output_type": "display_data"
        },
        {
          "data": {
            "text/html": [
              "wandb version 0.15.0 is available!  To upgrade, please run:\n",
              " $ pip install wandb --upgrade"
            ],
            "text/plain": [
              "<IPython.core.display.HTML object>"
            ]
          },
          "metadata": {},
          "output_type": "display_data"
        },
        {
          "data": {
            "text/html": [
              "Tracking run with wandb version 0.14.0"
            ],
            "text/plain": [
              "<IPython.core.display.HTML object>"
            ]
          },
          "metadata": {},
          "output_type": "display_data"
        },
        {
          "data": {
            "text/html": [
              "Run data is saved locally in <code>c:\\Users\\nicol\\Documents\\GitHub\\INF8225\\Project\\wandb\\run-20230429_145446-11pkrfvz</code>"
            ],
            "text/plain": [
              "<IPython.core.display.HTML object>"
            ]
          },
          "metadata": {},
          "output_type": "display_data"
        },
        {
          "data": {
            "text/html": [
              "Syncing run <strong><a href='https://wandb.ai/fun-stuff/INF8225%20-%20Project/runs/11pkrfvz' target=\"_blank\">Resnet-50</a></strong> to <a href='https://wandb.ai/fun-stuff/INF8225%20-%20Project' target=\"_blank\">Weights & Biases</a> (<a href='https://wandb.me/run' target=\"_blank\">docs</a>)<br/>"
            ],
            "text/plain": [
              "<IPython.core.display.HTML object>"
            ]
          },
          "metadata": {},
          "output_type": "display_data"
        },
        {
          "data": {
            "text/html": [
              " View project at <a href='https://wandb.ai/fun-stuff/INF8225%20-%20Project' target=\"_blank\">https://wandb.ai/fun-stuff/INF8225%20-%20Project</a>"
            ],
            "text/plain": [
              "<IPython.core.display.HTML object>"
            ]
          },
          "metadata": {},
          "output_type": "display_data"
        },
        {
          "data": {
            "text/html": [
              " View run at <a href='https://wandb.ai/fun-stuff/INF8225%20-%20Project/runs/11pkrfvz' target=\"_blank\">https://wandb.ai/fun-stuff/INF8225%20-%20Project/runs/11pkrfvz</a>"
            ],
            "text/plain": [
              "<IPython.core.display.HTML object>"
            ]
          },
          "metadata": {},
          "output_type": "display_data"
        },
        {
          "name": "stdout",
          "output_type": "stream",
          "text": [
            "Starting training for 30 epochs, using cuda.\n",
            "\n",
            "Epoch 1\n",
            "Train -   loss: 2.15     training_accuracy: 0.24\n",
            "\n",
            "Epoch 2\n",
            "Train -   loss: 2.11     training_accuracy: 0.31\n",
            "\n",
            "Epoch 3\n",
            "Train -   loss: 2.07     training_accuracy: 0.35\n",
            "\n",
            "Epoch 4\n",
            "Train -   loss: 2.05     training_accuracy: 0.38\n",
            "\n",
            "Epoch 5\n",
            "Train -   loss: 2.05     training_accuracy: 0.40\n",
            "\n",
            "Epoch 6\n",
            "Train -   loss: 2.03     training_accuracy: 0.42\n",
            "\n",
            "Epoch 7\n",
            "Train -   loss: 2.01     training_accuracy: 0.44\n",
            "\n",
            "Epoch 8\n",
            "Train -   loss: 2.00     training_accuracy: 0.46\n",
            "\n",
            "Epoch 9\n",
            "Train -   loss: 1.98     training_accuracy: 0.47\n",
            "\n",
            "Epoch 10\n",
            "Train -   loss: 1.98     training_accuracy: 0.48\n",
            "\n",
            "Epoch 11\n",
            "Train -   loss: 1.95     training_accuracy: 0.50\n",
            "\n",
            "Epoch 12\n",
            "Train -   loss: 1.94     training_accuracy: 0.51\n",
            "\n",
            "Epoch 13\n",
            "Train -   loss: 1.93     training_accuracy: 0.53\n",
            "\n",
            "Epoch 14\n",
            "Train -   loss: 1.91     training_accuracy: 0.54\n",
            "\n",
            "Epoch 15\n",
            "Train -   loss: 1.92     training_accuracy: 0.55\n",
            "\n",
            "Epoch 16\n",
            "Train -   loss: 1.90     training_accuracy: 0.56\n",
            "\n",
            "Epoch 17\n",
            "Train -   loss: 1.89     training_accuracy: 0.57\n",
            "\n",
            "Epoch 18\n",
            "Train -   loss: 1.88     training_accuracy: 0.58\n",
            "\n",
            "Epoch 19\n",
            "Train -   loss: 1.87     training_accuracy: 0.59\n",
            "\n",
            "Epoch 20\n",
            "Train -   loss: 1.85     training_accuracy: 0.59\n",
            "\n",
            "Epoch 21\n",
            "Train -   loss: 1.87     training_accuracy: 0.61\n",
            "\n",
            "Epoch 22\n",
            "Train -   loss: 1.86     training_accuracy: 0.61\n",
            "\n",
            "Epoch 23\n",
            "Train -   loss: 1.85     training_accuracy: 0.62\n",
            "\n",
            "Epoch 24\n",
            "Train -   loss: 1.83     training_accuracy: 0.62\n",
            "\n",
            "Epoch 25\n",
            "Train -   loss: 1.82     training_accuracy: 0.63\n",
            "\n",
            "Epoch 26\n",
            "Train -   loss: 1.81     training_accuracy: 0.64\n",
            "\n",
            "Epoch 27\n",
            "Train -   loss: 1.82     training_accuracy: 0.65\n",
            "\n",
            "Epoch 28\n",
            "Train -   loss: 1.83     training_accuracy: 0.65\n",
            "\n",
            "Epoch 29\n",
            "Train -   loss: 1.80     training_accuracy: 0.66\n",
            "\n",
            "Epoch 30\n",
            "Train -   loss: 1.79     training_accuracy: 0.67\n"
          ]
        },
        {
          "data": {
            "text/html": [
              "Waiting for W&B process to finish... <strong style=\"color:green\">(success).</strong>"
            ],
            "text/plain": [
              "<IPython.core.display.HTML object>"
            ]
          },
          "metadata": {},
          "output_type": "display_data"
        },
        {
          "data": {
            "text/html": [
              "<style>\n",
              "    table.wandb td:nth-child(1) { padding: 0 10px; text-align: left ; width: auto;} td:nth-child(2) {text-align: left ; width: 100%}\n",
              "    .wandb-row { display: flex; flex-direction: row; flex-wrap: wrap; justify-content: flex-start; width: 100% }\n",
              "    .wandb-col { display: flex; flex-direction: column; flex-basis: 100%; flex: 1; padding: 10px; }\n",
              "    </style>\n",
              "<div class=\"wandb-row\"><div class=\"wandb-col\"><h3>Run history:</h3><br/><table class=\"wandb\"><tr><td>loss</td><td>█▆▆▅▅▅▅▄▄▄▄▄▃▄▃▃▃▃▃▂▂▂▂▂▂▂▂▂▂▂▂▂▁▁▁▁▁▁▁▁</td></tr><tr><td>training_accuracy</td><td>▁▃▃▄▄▄▅▅▅▅▅▆▆▆▆▆▆▆▆▇▇▇▇▇▇▇▇▇▇▇▇▇████████</td></tr><tr><td>validation_accuracy</td><td>▁▃▄▅▅▅▅▅▅▆▆▆▆▆▇▆▇▇▇▇▇▇▇▇██████</td></tr></table><br/></div><div class=\"wandb-col\"><h3>Run summary:</h3><br/><table class=\"wandb\"><tr><td>loss</td><td>1.80218</td></tr><tr><td>training_accuracy</td><td>0.66817</td></tr><tr><td>validation_accuracy</td><td>0.6674</td></tr></table><br/></div></div>"
            ],
            "text/plain": [
              "<IPython.core.display.HTML object>"
            ]
          },
          "metadata": {},
          "output_type": "display_data"
        },
        {
          "data": {
            "text/html": [
              " View run <strong style=\"color:#cdcd00\">Resnet-50</strong> at: <a href='https://wandb.ai/fun-stuff/INF8225%20-%20Project/runs/11pkrfvz' target=\"_blank\">https://wandb.ai/fun-stuff/INF8225%20-%20Project/runs/11pkrfvz</a><br/>Synced 6 W&B file(s), 0 media file(s), 0 artifact file(s) and 1 other file(s)"
            ],
            "text/plain": [
              "<IPython.core.display.HTML object>"
            ]
          },
          "metadata": {},
          "output_type": "display_data"
        },
        {
          "data": {
            "text/html": [
              "Find logs at: <code>.\\wandb\\run-20230429_145446-11pkrfvz\\logs</code>"
            ],
            "text/plain": [
              "<IPython.core.display.HTML object>"
            ]
          },
          "metadata": {},
          "output_type": "display_data"
        }
      ],
      "source": [
        "!wandb login 38835c5bbc76ab228d493d9c4755d75233187f55\n",
        "!wandb online\n",
        "\n",
        "bool_values = [\n",
        "        True,\n",
        "        False,\n",
        "        ]\n",
        "residuals_blocks = [\n",
        "    residual_blocks_tiny,\n",
        "    residual_blocks_small_tiny,\n",
        "    residual_blocks_small,\n",
        "    residual_blocks_medium,\n",
        "    residual_blocks_large,\n",
        "    ]\n",
        "\n",
        "for residual_blocks in residuals_blocks:\n",
        "    for is_plain in bool_values:\n",
        "        config = Config(residual_blocks, nb_classes=10, is_plain=is_plain)\n",
        "        with wandb.init(\n",
        "                config=config.values,\n",
        "                project='INF8225 - Project',\n",
        "                group=f\"{'Plain-4' if config.is_plain else 'Resnet-4'}\",\n",
        "                name=f\"{'Plain' if config.is_plain else 'Resnet'}-{config.n_layers}\",\n",
        "                save_code=True,\n",
        "            ):\n",
        "            train_model(config.model, config)\n"
      ]
    }
  ],
  "metadata": {
    "colab": {
      "provenance": []
    },
    "kernelspec": {
      "display_name": "Python 3",
      "name": "python3"
    },
    "language_info": {
      "codemirror_mode": {
        "name": "ipython",
        "version": 3
      },
      "file_extension": ".py",
      "mimetype": "text/x-python",
      "name": "python",
      "nbconvert_exporter": "python",
      "pygments_lexer": "ipython3",
      "version": "3.10.10"
    },
    "widgets": {
      "application/vnd.jupyter.widget-state+json": {
        "20d772e01eee4c14b88b9453a4f4d0de": {
          "model_module": "@jupyter-widgets/base",
          "model_module_version": "1.2.0",
          "model_name": "LayoutModel",
          "state": {
            "_model_module": "@jupyter-widgets/base",
            "_model_module_version": "1.2.0",
            "_model_name": "LayoutModel",
            "_view_count": null,
            "_view_module": "@jupyter-widgets/base",
            "_view_module_version": "1.2.0",
            "_view_name": "LayoutView",
            "align_content": null,
            "align_items": null,
            "align_self": null,
            "border": null,
            "bottom": null,
            "display": null,
            "flex": null,
            "flex_flow": null,
            "grid_area": null,
            "grid_auto_columns": null,
            "grid_auto_flow": null,
            "grid_auto_rows": null,
            "grid_column": null,
            "grid_gap": null,
            "grid_row": null,
            "grid_template_areas": null,
            "grid_template_columns": null,
            "grid_template_rows": null,
            "height": null,
            "justify_content": null,
            "justify_items": null,
            "left": null,
            "margin": null,
            "max_height": null,
            "max_width": null,
            "min_height": null,
            "min_width": null,
            "object_fit": null,
            "object_position": null,
            "order": null,
            "overflow": null,
            "overflow_x": null,
            "overflow_y": null,
            "padding": null,
            "right": null,
            "top": null,
            "visibility": null,
            "width": null
          }
        },
        "2d597b0b98af4404a7c280da9be2e1dd": {
          "model_module": "@jupyter-widgets/controls",
          "model_module_version": "1.5.0",
          "model_name": "HBoxModel",
          "state": {
            "_dom_classes": [],
            "_model_module": "@jupyter-widgets/controls",
            "_model_module_version": "1.5.0",
            "_model_name": "HBoxModel",
            "_view_count": null,
            "_view_module": "@jupyter-widgets/controls",
            "_view_module_version": "1.5.0",
            "_view_name": "HBoxView",
            "box_style": "",
            "children": [
              "IPY_MODEL_ca2826645e7241d6be5bc032de68471b",
              "IPY_MODEL_65d8103c47c04638a69b5a54eed2df26",
              "IPY_MODEL_8040dde64218489c880c4259f00bc3b5"
            ],
            "layout": "IPY_MODEL_6f314732fe0644299ab0cded185c51dc"
          }
        },
        "3859e5b2e39e4b8d9a30e0c229ed0a6c": {
          "model_module": "@jupyter-widgets/base",
          "model_module_version": "1.2.0",
          "model_name": "LayoutModel",
          "state": {
            "_model_module": "@jupyter-widgets/base",
            "_model_module_version": "1.2.0",
            "_model_name": "LayoutModel",
            "_view_count": null,
            "_view_module": "@jupyter-widgets/base",
            "_view_module_version": "1.2.0",
            "_view_name": "LayoutView",
            "align_content": null,
            "align_items": null,
            "align_self": null,
            "border": null,
            "bottom": null,
            "display": null,
            "flex": null,
            "flex_flow": null,
            "grid_area": null,
            "grid_auto_columns": null,
            "grid_auto_flow": null,
            "grid_auto_rows": null,
            "grid_column": null,
            "grid_gap": null,
            "grid_row": null,
            "grid_template_areas": null,
            "grid_template_columns": null,
            "grid_template_rows": null,
            "height": null,
            "justify_content": null,
            "justify_items": null,
            "left": null,
            "margin": null,
            "max_height": null,
            "max_width": null,
            "min_height": null,
            "min_width": null,
            "object_fit": null,
            "object_position": null,
            "order": null,
            "overflow": null,
            "overflow_x": null,
            "overflow_y": null,
            "padding": null,
            "right": null,
            "top": null,
            "visibility": null,
            "width": null
          }
        },
        "3a24219fc7a445ce94b61ea283389a63": {
          "model_module": "@jupyter-widgets/controls",
          "model_module_version": "1.5.0",
          "model_name": "ProgressStyleModel",
          "state": {
            "_model_module": "@jupyter-widgets/controls",
            "_model_module_version": "1.5.0",
            "_model_name": "ProgressStyleModel",
            "_view_count": null,
            "_view_module": "@jupyter-widgets/base",
            "_view_module_version": "1.2.0",
            "_view_name": "StyleView",
            "bar_color": null,
            "description_width": ""
          }
        },
        "6555507ad2e84ec0b555ce25b8a59492": {
          "model_module": "@jupyter-widgets/controls",
          "model_module_version": "1.5.0",
          "model_name": "DescriptionStyleModel",
          "state": {
            "_model_module": "@jupyter-widgets/controls",
            "_model_module_version": "1.5.0",
            "_model_name": "DescriptionStyleModel",
            "_view_count": null,
            "_view_module": "@jupyter-widgets/base",
            "_view_module_version": "1.2.0",
            "_view_name": "StyleView",
            "description_width": ""
          }
        },
        "65d8103c47c04638a69b5a54eed2df26": {
          "model_module": "@jupyter-widgets/controls",
          "model_module_version": "1.5.0",
          "model_name": "FloatProgressModel",
          "state": {
            "_dom_classes": [],
            "_model_module": "@jupyter-widgets/controls",
            "_model_module_version": "1.5.0",
            "_model_name": "FloatProgressModel",
            "_view_count": null,
            "_view_module": "@jupyter-widgets/controls",
            "_view_module_version": "1.5.0",
            "_view_name": "ProgressView",
            "bar_style": "success",
            "description": "",
            "description_tooltip": null,
            "layout": "IPY_MODEL_b632e95f15014998a214e66e42b3f461",
            "max": 170498071,
            "min": 0,
            "orientation": "horizontal",
            "style": "IPY_MODEL_3a24219fc7a445ce94b61ea283389a63",
            "value": 170498071
          }
        },
        "6cc1a693560f4aa3b449b1a6f35dc1e2": {
          "model_module": "@jupyter-widgets/controls",
          "model_module_version": "1.5.0",
          "model_name": "DescriptionStyleModel",
          "state": {
            "_model_module": "@jupyter-widgets/controls",
            "_model_module_version": "1.5.0",
            "_model_name": "DescriptionStyleModel",
            "_view_count": null,
            "_view_module": "@jupyter-widgets/base",
            "_view_module_version": "1.2.0",
            "_view_name": "StyleView",
            "description_width": ""
          }
        },
        "6f314732fe0644299ab0cded185c51dc": {
          "model_module": "@jupyter-widgets/base",
          "model_module_version": "1.2.0",
          "model_name": "LayoutModel",
          "state": {
            "_model_module": "@jupyter-widgets/base",
            "_model_module_version": "1.2.0",
            "_model_name": "LayoutModel",
            "_view_count": null,
            "_view_module": "@jupyter-widgets/base",
            "_view_module_version": "1.2.0",
            "_view_name": "LayoutView",
            "align_content": null,
            "align_items": null,
            "align_self": null,
            "border": null,
            "bottom": null,
            "display": null,
            "flex": null,
            "flex_flow": null,
            "grid_area": null,
            "grid_auto_columns": null,
            "grid_auto_flow": null,
            "grid_auto_rows": null,
            "grid_column": null,
            "grid_gap": null,
            "grid_row": null,
            "grid_template_areas": null,
            "grid_template_columns": null,
            "grid_template_rows": null,
            "height": null,
            "justify_content": null,
            "justify_items": null,
            "left": null,
            "margin": null,
            "max_height": null,
            "max_width": null,
            "min_height": null,
            "min_width": null,
            "object_fit": null,
            "object_position": null,
            "order": null,
            "overflow": null,
            "overflow_x": null,
            "overflow_y": null,
            "padding": null,
            "right": null,
            "top": null,
            "visibility": null,
            "width": null
          }
        },
        "8040dde64218489c880c4259f00bc3b5": {
          "model_module": "@jupyter-widgets/controls",
          "model_module_version": "1.5.0",
          "model_name": "HTMLModel",
          "state": {
            "_dom_classes": [],
            "_model_module": "@jupyter-widgets/controls",
            "_model_module_version": "1.5.0",
            "_model_name": "HTMLModel",
            "_view_count": null,
            "_view_module": "@jupyter-widgets/controls",
            "_view_module_version": "1.5.0",
            "_view_name": "HTMLView",
            "description": "",
            "description_tooltip": null,
            "layout": "IPY_MODEL_3859e5b2e39e4b8d9a30e0c229ed0a6c",
            "placeholder": "​",
            "style": "IPY_MODEL_6555507ad2e84ec0b555ce25b8a59492",
            "value": " 170498071/170498071 [00:03&lt;00:00, 65742024.15it/s]"
          }
        },
        "b632e95f15014998a214e66e42b3f461": {
          "model_module": "@jupyter-widgets/base",
          "model_module_version": "1.2.0",
          "model_name": "LayoutModel",
          "state": {
            "_model_module": "@jupyter-widgets/base",
            "_model_module_version": "1.2.0",
            "_model_name": "LayoutModel",
            "_view_count": null,
            "_view_module": "@jupyter-widgets/base",
            "_view_module_version": "1.2.0",
            "_view_name": "LayoutView",
            "align_content": null,
            "align_items": null,
            "align_self": null,
            "border": null,
            "bottom": null,
            "display": null,
            "flex": null,
            "flex_flow": null,
            "grid_area": null,
            "grid_auto_columns": null,
            "grid_auto_flow": null,
            "grid_auto_rows": null,
            "grid_column": null,
            "grid_gap": null,
            "grid_row": null,
            "grid_template_areas": null,
            "grid_template_columns": null,
            "grid_template_rows": null,
            "height": null,
            "justify_content": null,
            "justify_items": null,
            "left": null,
            "margin": null,
            "max_height": null,
            "max_width": null,
            "min_height": null,
            "min_width": null,
            "object_fit": null,
            "object_position": null,
            "order": null,
            "overflow": null,
            "overflow_x": null,
            "overflow_y": null,
            "padding": null,
            "right": null,
            "top": null,
            "visibility": null,
            "width": null
          }
        },
        "ca2826645e7241d6be5bc032de68471b": {
          "model_module": "@jupyter-widgets/controls",
          "model_module_version": "1.5.0",
          "model_name": "HTMLModel",
          "state": {
            "_dom_classes": [],
            "_model_module": "@jupyter-widgets/controls",
            "_model_module_version": "1.5.0",
            "_model_name": "HTMLModel",
            "_view_count": null,
            "_view_module": "@jupyter-widgets/controls",
            "_view_module_version": "1.5.0",
            "_view_name": "HTMLView",
            "description": "",
            "description_tooltip": null,
            "layout": "IPY_MODEL_20d772e01eee4c14b88b9453a4f4d0de",
            "placeholder": "​",
            "style": "IPY_MODEL_6cc1a693560f4aa3b449b1a6f35dc1e2",
            "value": "100%"
          }
        }
      }
    }
  },
  "nbformat": 4,
  "nbformat_minor": 0
}
