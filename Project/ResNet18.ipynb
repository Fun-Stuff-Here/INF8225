{
  "cells": [
    {
      "cell_type": "code",
      "execution_count": 1,
      "metadata": {
        "colab": {
          "base_uri": "https://localhost:8080/"
        },
        "id": "P5WpE6-nb90Q",
        "outputId": "624d6f7e-25be-4c80-ac3e-2e53d825db58"
      },
      "outputs": [
        {
          "name": "stdout",
          "output_type": "stream",
          "text": [
            "Files already downloaded and verified\n",
            "Files already downloaded and verified\n",
            "Files already downloaded and verified\n",
            "----------------------------------------------------------------\n",
            "        Layer (type)               Output Shape         Param #\n",
            "================================================================\n",
            "            Conv2d-1           [-1, 64, 14, 14]           9,472\n",
            "       BatchNorm2d-2           [-1, 64, 14, 14]             128\n",
            "              ReLU-3           [-1, 64, 14, 14]               0\n",
            "         MaxPool2d-4             [-1, 64, 7, 7]               0\n",
            "            Conv2d-5             [-1, 64, 7, 7]          36,928\n",
            "       BatchNorm2d-6             [-1, 64, 7, 7]             128\n",
            "              ReLU-7             [-1, 64, 7, 7]               0\n",
            "            Conv2d-8             [-1, 64, 7, 7]          36,928\n",
            "       BatchNorm2d-9             [-1, 64, 7, 7]             128\n",
            "           Conv2d-10             [-1, 64, 4, 4]           4,160\n",
            "             ReLU-11             [-1, 64, 4, 4]               0\n",
            "    ResidualBlock-12             [-1, 64, 4, 4]               0\n",
            "           Conv2d-13             [-1, 64, 4, 4]          36,928\n",
            "      BatchNorm2d-14             [-1, 64, 4, 4]             128\n",
            "             ReLU-15             [-1, 64, 4, 4]               0\n",
            "           Conv2d-16             [-1, 64, 4, 4]          36,928\n",
            "      BatchNorm2d-17             [-1, 64, 4, 4]             128\n",
            "           Conv2d-18             [-1, 64, 2, 2]           4,160\n",
            "             ReLU-19             [-1, 64, 2, 2]               0\n",
            "    ResidualBlock-20             [-1, 64, 2, 2]               0\n",
            "           Conv2d-21            [-1, 128, 2, 2]           8,320\n",
            "           Conv2d-22             [-1, 64, 2, 2]          36,928\n",
            "      BatchNorm2d-23             [-1, 64, 2, 2]             128\n",
            "             ReLU-24             [-1, 64, 2, 2]               0\n",
            "           Conv2d-25             [-1, 64, 2, 2]          36,928\n",
            "      BatchNorm2d-26             [-1, 64, 2, 2]             128\n",
            "           Conv2d-27            [-1, 128, 1, 1]           8,320\n",
            "             ReLU-28            [-1, 128, 1, 1]               0\n",
            "    ResidualBlock-29            [-1, 128, 1, 1]               0\n",
            "           Conv2d-30            [-1, 128, 1, 1]         147,584\n",
            "      BatchNorm2d-31            [-1, 128, 1, 1]             256\n",
            "             ReLU-32            [-1, 128, 1, 1]               0\n",
            "           Conv2d-33            [-1, 128, 1, 1]         147,584\n",
            "      BatchNorm2d-34            [-1, 128, 1, 1]             256\n",
            "           Conv2d-35            [-1, 128, 1, 1]          16,512\n",
            "             ReLU-36            [-1, 128, 1, 1]               0\n",
            "    ResidualBlock-37            [-1, 128, 1, 1]               0\n",
            "           Conv2d-38            [-1, 256, 1, 1]          33,024\n",
            "           Conv2d-39            [-1, 128, 1, 1]         147,584\n",
            "      BatchNorm2d-40            [-1, 128, 1, 1]             256\n",
            "             ReLU-41            [-1, 128, 1, 1]               0\n",
            "           Conv2d-42            [-1, 128, 1, 1]         147,584\n",
            "      BatchNorm2d-43            [-1, 128, 1, 1]             256\n",
            "           Conv2d-44            [-1, 256, 1, 1]          33,024\n",
            "             ReLU-45            [-1, 256, 1, 1]               0\n",
            "    ResidualBlock-46            [-1, 256, 1, 1]               0\n",
            "           Conv2d-47            [-1, 256, 1, 1]         590,080\n",
            "      BatchNorm2d-48            [-1, 256, 1, 1]             512\n",
            "             ReLU-49            [-1, 256, 1, 1]               0\n",
            "           Conv2d-50            [-1, 256, 1, 1]         590,080\n",
            "      BatchNorm2d-51            [-1, 256, 1, 1]             512\n",
            "           Conv2d-52            [-1, 256, 1, 1]          65,792\n",
            "             ReLU-53            [-1, 256, 1, 1]               0\n",
            "    ResidualBlock-54            [-1, 256, 1, 1]               0\n",
            "           Conv2d-55            [-1, 512, 1, 1]         131,584\n",
            "           Conv2d-56            [-1, 256, 1, 1]         590,080\n",
            "      BatchNorm2d-57            [-1, 256, 1, 1]             512\n",
            "             ReLU-58            [-1, 256, 1, 1]               0\n",
            "           Conv2d-59            [-1, 256, 1, 1]         590,080\n",
            "      BatchNorm2d-60            [-1, 256, 1, 1]             512\n",
            "           Conv2d-61            [-1, 512, 1, 1]         131,584\n",
            "             ReLU-62            [-1, 512, 1, 1]               0\n",
            "    ResidualBlock-63            [-1, 512, 1, 1]               0\n",
            "           Conv2d-64            [-1, 512, 1, 1]       2,359,808\n",
            "      BatchNorm2d-65            [-1, 512, 1, 1]           1,024\n",
            "             ReLU-66            [-1, 512, 1, 1]               0\n",
            "           Conv2d-67            [-1, 512, 1, 1]       2,359,808\n",
            "      BatchNorm2d-68            [-1, 512, 1, 1]           1,024\n",
            "           Conv2d-69            [-1, 512, 1, 1]         262,656\n",
            "             ReLU-70            [-1, 512, 1, 1]               0\n",
            "    ResidualBlock-71            [-1, 512, 1, 1]               0\n",
            "          Flatten-72                  [-1, 512]               0\n",
            "           Linear-73                   [-1, 10]           5,130\n",
            "================================================================\n",
            "Total params: 8,611,594\n",
            "Trainable params: 8,611,594\n",
            "Non-trainable params: 0\n",
            "----------------------------------------------------------------\n",
            "Input size (MB): 0.01\n",
            "Forward/backward pass size (MB): 0.61\n",
            "Params size (MB): 32.85\n",
            "Estimated Total Size (MB): 33.47\n",
            "----------------------------------------------------------------\n"
          ]
        }
      ],
      "source": [
        "import sys\n",
        "sys.path.append('src')\n",
        "from torchsummary import summary\n",
        "from src.config import Config\n",
        "from dataclasses import asdict\n",
        "from src.training.train import train_model\n",
        "import wandb\n",
        "\n",
        "# Define residual blocks\n",
        "residual_blocks = [\n",
        "    # Two residual block with identity mapping\n",
        "    {\"num_channels\":64, \"output_channels\":64, \"is_identity\":True, \"stride\":2},\n",
        "    {\"num_channels\":64, \"output_channels\":64, \"is_identity\":True, \"stride\":2},\n",
        "    # Next 3 [conv mapping + identity mapping]\n",
        "    {\"num_channels\":64, \"output_channels\":128, \"is_identity\":False, \"stride\":2},\n",
        "    {\"num_channels\":128, \"output_channels\":128, \"is_identity\":True, \"stride\":2},\n",
        "    {\"num_channels\":128, \"output_channels\":256, \"is_identity\":False, \"stride\":2},\n",
        "    {\"num_channels\":256, \"output_channels\":256, \"is_identity\":True, \"stride\":2},\n",
        "    {\"num_channels\":256, \"output_channels\":512, \"is_identity\":False, \"stride\":2},\n",
        "    {\"num_channels\":512, \"output_channels\":512, \"is_identity\":True, \"stride\":2}\n",
        "]\n",
        "\n",
        "config = Config(residual_blocks, nb_classes=10)\n",
        "\n",
        "summary(config.model, (3, 32, 32), device=config.device)"
      ]
    },
    {
      "cell_type": "code",
      "execution_count": 2,
      "metadata": {},
      "outputs": [
        {
          "name": "stderr",
          "output_type": "stream",
          "text": [
            "wandb: Appending key for api.wandb.ai to your netrc file: C:\\Users\\nicol/.netrc\n"
          ]
        },
        {
          "name": "stdout",
          "output_type": "stream",
          "text": [
            "Sun Apr  9 12:36:25 2023       \n",
            "+---------------------------------------------------------------------------------------+\n",
            "| NVIDIA-SMI 531.14                 Driver Version: 531.14       CUDA Version: 12.1     |\n",
            "|-----------------------------------------+----------------------+----------------------+\n",
            "| GPU  Name                      TCC/WDDM | Bus-Id        Disp.A | Volatile Uncorr. ECC |\n",
            "| Fan  Temp  Perf            Pwr:Usage/Cap|         Memory-Usage | GPU-Util  Compute M. |\n",
            "|                                         |                      |               MIG M. |\n",
            "|=========================================+======================+======================|\n",
            "|   0  NVIDIA GeForce RTX 2060       WDDM | 00000000:01:00.0 Off |                  N/A |\n",
            "| N/A   57C    P2               27W /  N/A|   2909MiB /  6144MiB |     37%      Default |\n",
            "|                                         |                      |                  N/A |\n",
            "+-----------------------------------------+----------------------+----------------------+\n",
            "                                                                                         \n",
            "+---------------------------------------------------------------------------------------+\n",
            "| Processes:                                                                            |\n",
            "|  GPU   GI   CI        PID   Type   Process name                            GPU Memory |\n",
            "|        ID   ID                                                             Usage      |\n",
            "|=======================================================================================|\n",
            "|    0   N/A  N/A       852    C+G   ...eenXpert\\AsusScreenXpertReunion.exe    N/A      |\n",
            "|    0   N/A  N/A      2972    C+G   ....0_x64__qmba6cd70vzyy\\AsusLibra.exe    N/A      |\n",
            "|    0   N/A  N/A     10740    C+G   ...Programs\\Microsoft VS Code\\Code.exe    N/A      |\n",
            "|    0   N/A  N/A     11796    C+G   ...on\\wallpaper_engine\\wallpaper32.exe    N/A      |\n",
            "|    0   N/A  N/A     12136    C+G   ..._8wekyb3d8bbwe\\PAD.Console.Host.exe    N/A      |\n",
            "|    0   N/A  N/A     12256    C+G   ...cal\\Microsoft\\OneDrive\\OneDrive.exe    N/A      |\n",
            "|    0   N/A  N/A     13468    C+G   ...ekyb3d8bbwe\\PhoneExperienceHost.exe    N/A      |\n",
            "|    0   N/A  N/A     14936    C+G   ...2txyewy\\StartMenuExperienceHost.exe    N/A      |\n",
            "|    0   N/A  N/A     14968    C+G   ...l\\gitkraken\\app-9.3.0\\gitkraken.exe    N/A      |\n",
            "|    0   N/A  N/A     15284    C+G   ...al\\Discord\\app-1.0.9012\\Discord.exe    N/A      |\n",
            "|    0   N/A  N/A     16792      C   ...vVirtualCamera\\NVIDIA Broadcast.exe    N/A      |\n",
            "|    0   N/A  N/A     18828    C+G   ...cal\\Microsoft\\OneDrive\\OneDrive.exe    N/A      |\n",
            "|    0   N/A  N/A     19892    C+G   ...nt.CBS_cw5n1h2txyewy\\SearchHost.exe    N/A      |\n",
            "|    0   N/A  N/A     20548    C+G   ....0_x64__8wekyb3d8bbwe\\onenoteim.exe    N/A      |\n",
            "|    0   N/A  N/A     20648    C+G   ...ol Panel Toolkit\\AsusDCPAntenna.exe    N/A      |\n",
            "|    0   N/A  N/A     23500    C+G   ...CBS_cw5n1h2txyewy\\TextInputHost.exe    N/A      |\n",
            "|    0   N/A  N/A     25272      C   ...l\\anaconda3\\envs\\INF8225\\python.exe    N/A      |\n",
            "|    0   N/A  N/A     26436    C+G   ...23.0_x86__zpdnekdrzrea0\\Spotify.exe    N/A      |\n",
            "|    0   N/A  N/A     27588    C+G   ...71.0_x64__8wekyb3d8bbwe\\GameBar.exe    N/A      |\n",
            "+---------------------------------------------------------------------------------------+\n"
          ]
        }
      ],
      "source": [
        "# Checking GPU and logging to wandb\n",
        "\n",
        "!wandb login 38835c5bbc76ab228d493d9c4755d75233187f55\n",
        "\n",
        "!nvidia-smi"
      ]
    },
    {
      "cell_type": "code",
      "execution_count": 3,
      "metadata": {},
      "outputs": [
        {
          "name": "stderr",
          "output_type": "stream",
          "text": [
            "Usage: wandb online [OPTIONS]\n",
            "Try 'wandb online --help' for help.\n",
            "\n",
            "Error: Got unexpected extra arguments (# online / offline to activate or deactivate WandB logging)\n",
            "Failed to detect the name of this notebook, you can set it manually with the WANDB_NOTEBOOK_NAME environment variable to enable code saving.\n",
            "\u001b[34m\u001b[1mwandb\u001b[0m: Currently logged in as: \u001b[33mnicolasdepelteau\u001b[0m (\u001b[33mfun-stuff\u001b[0m). Use \u001b[1m`wandb login --relogin`\u001b[0m to force relogin\n"
          ]
        },
        {
          "data": {
            "text/html": [
              "wandb version 0.14.2 is available!  To upgrade, please run:\n",
              " $ pip install wandb --upgrade"
            ],
            "text/plain": [
              "<IPython.core.display.HTML object>"
            ]
          },
          "metadata": {},
          "output_type": "display_data"
        },
        {
          "data": {
            "text/html": [
              "Tracking run with wandb version 0.14.0"
            ],
            "text/plain": [
              "<IPython.core.display.HTML object>"
            ]
          },
          "metadata": {},
          "output_type": "display_data"
        },
        {
          "data": {
            "text/html": [
              "Run data is saved locally in <code>c:\\Users\\nicol\\Documents\\GitHub\\INF8225\\Project\\wandb\\run-20230409_123631-gbmqgub3</code>"
            ],
            "text/plain": [
              "<IPython.core.display.HTML object>"
            ]
          },
          "metadata": {},
          "output_type": "display_data"
        },
        {
          "data": {
            "text/html": [
              "Syncing run <strong><a href='https://wandb.ai/fun-stuff/INF8225%20-%20Project/runs/gbmqgub3' target=\"_blank\">logical-river-7</a></strong> to <a href='https://wandb.ai/fun-stuff/INF8225%20-%20Project' target=\"_blank\">Weights & Biases</a> (<a href='https://wandb.me/run' target=\"_blank\">docs</a>)<br/>"
            ],
            "text/plain": [
              "<IPython.core.display.HTML object>"
            ]
          },
          "metadata": {},
          "output_type": "display_data"
        },
        {
          "data": {
            "text/html": [
              " View project at <a href='https://wandb.ai/fun-stuff/INF8225%20-%20Project' target=\"_blank\">https://wandb.ai/fun-stuff/INF8225%20-%20Project</a>"
            ],
            "text/plain": [
              "<IPython.core.display.HTML object>"
            ]
          },
          "metadata": {},
          "output_type": "display_data"
        },
        {
          "data": {
            "text/html": [
              " View run at <a href='https://wandb.ai/fun-stuff/INF8225%20-%20Project/runs/gbmqgub3' target=\"_blank\">https://wandb.ai/fun-stuff/INF8225%20-%20Project/runs/gbmqgub3</a>"
            ],
            "text/plain": [
              "<IPython.core.display.HTML object>"
            ]
          },
          "metadata": {},
          "output_type": "display_data"
        },
        {
          "name": "stdout",
          "output_type": "stream",
          "text": [
            "Starting training for 5 epochs, using cuda.\n",
            "\n",
            "Epoch 1\n"
          ]
        },
        {
          "data": {
            "text/html": [
              "Waiting for W&B process to finish... <strong style=\"color:red\">(failed 1).</strong> Press Ctrl-C to abort syncing."
            ],
            "text/plain": [
              "<IPython.core.display.HTML object>"
            ]
          },
          "metadata": {},
          "output_type": "display_data"
        },
        {
          "data": {
            "text/html": [
              "<style>\n",
              "    table.wandb td:nth-child(1) { padding: 0 10px; text-align: left ; width: auto;} td:nth-child(2) {text-align: left ; width: 100%}\n",
              "    .wandb-row { display: flex; flex-direction: row; flex-wrap: wrap; justify-content: flex-start; width: 100% }\n",
              "    .wandb-col { display: flex; flex-direction: column; flex-basis: 100%; flex: 1; padding: 10px; }\n",
              "    </style>\n",
              "<div class=\"wandb-row\"><div class=\"wandb-col\"><h3>Run history:</h3><br/><table class=\"wandb\"><tr><td>loss</td><td>▁</td></tr><tr><td>training_accuracy</td><td>▁</td></tr><tr><td>validation_accuracy</td><td>▁</td></tr></table><br/></div><div class=\"wandb-col\"><h3>Run summary:</h3><br/><table class=\"wandb\"><tr><td>loss</td><td>2.24836</td></tr><tr><td>training_accuracy</td><td>0.15625</td></tr><tr><td>validation_accuracy</td><td>0.1</td></tr></table><br/></div></div>"
            ],
            "text/plain": [
              "<IPython.core.display.HTML object>"
            ]
          },
          "metadata": {},
          "output_type": "display_data"
        },
        {
          "data": {
            "text/html": [
              " View run <strong style=\"color:#cdcd00\">logical-river-7</strong> at: <a href='https://wandb.ai/fun-stuff/INF8225%20-%20Project/runs/gbmqgub3' target=\"_blank\">https://wandb.ai/fun-stuff/INF8225%20-%20Project/runs/gbmqgub3</a><br/>Synced 6 W&B file(s), 0 media file(s), 0 artifact file(s) and 1 other file(s)"
            ],
            "text/plain": [
              "<IPython.core.display.HTML object>"
            ]
          },
          "metadata": {},
          "output_type": "display_data"
        },
        {
          "data": {
            "text/html": [
              "Find logs at: <code>.\\wandb\\run-20230409_123631-gbmqgub3\\logs</code>"
            ],
            "text/plain": [
              "<IPython.core.display.HTML object>"
            ]
          },
          "metadata": {},
          "output_type": "display_data"
        },
        {
          "ename": "KeyboardInterrupt",
          "evalue": "",
          "output_type": "error",
          "traceback": [
            "\u001b[1;31m---------------------------------------------------------------------------\u001b[0m",
            "\u001b[1;31mKeyboardInterrupt\u001b[0m                         Traceback (most recent call last)",
            "Cell \u001b[1;32mIn[3], line 9\u001b[0m\n\u001b[0;32m      1\u001b[0m get_ipython()\u001b[39m.\u001b[39msystem(\u001b[39m'\u001b[39m\u001b[39mwandb online  # online / offline to activate or deactivate WandB logging\u001b[39m\u001b[39m'\u001b[39m)\n\u001b[0;32m      3\u001b[0m \u001b[39mwith\u001b[39;00m wandb\u001b[39m.\u001b[39minit(\n\u001b[0;32m      4\u001b[0m         config\u001b[39m=\u001b[39masdict(config),\n\u001b[0;32m      5\u001b[0m         project\u001b[39m=\u001b[39m\u001b[39m'\u001b[39m\u001b[39mINF8225 - Project\u001b[39m\u001b[39m'\u001b[39m,\n\u001b[0;32m      6\u001b[0m         group\u001b[39m=\u001b[39m\u001b[39m'\u001b[39m\u001b[39mResnet18\u001b[39m\u001b[39m'\u001b[39m,\n\u001b[0;32m      7\u001b[0m         save_code\u001b[39m=\u001b[39m\u001b[39mTrue\u001b[39;00m,\n\u001b[0;32m      8\u001b[0m     ):\n\u001b[1;32m----> 9\u001b[0m     train_model(config\u001b[39m.\u001b[39;49mmodel, config)\n",
            "File \u001b[1;32mc:\\Users\\nicol\\Documents\\GitHub\\INF8225\\Project\\src\\training\\train.py:43\u001b[0m, in \u001b[0;36mtrain_model\u001b[1;34m(model, config)\u001b[0m\n\u001b[0;32m     40\u001b[0m torch\u001b[39m.\u001b[39mnn\u001b[39m.\u001b[39mutils\u001b[39m.\u001b[39mclip_grad_norm_(model\u001b[39m.\u001b[39mparameters(), clip)\n\u001b[0;32m     41\u001b[0m optimizer\u001b[39m.\u001b[39mstep()\n\u001b[1;32m---> 43\u001b[0m validation_accuracy \u001b[39m=\u001b[39m eval_model(model, val_loader, config)\n\u001b[0;32m     45\u001b[0m metrics \u001b[39m=\u001b[39m Metric(\n\u001b[0;32m     46\u001b[0m     loss\u001b[39m=\u001b[39mloss\u001b[39m.\u001b[39mitem(),\n\u001b[0;32m     47\u001b[0m     validation_accuracy\u001b[39m=\u001b[39mvalidation_accuracy,\n\u001b[0;32m     48\u001b[0m     training_accuracy\u001b[39m=\u001b[39mtrain_accuracy\u001b[39m.\u001b[39mitem() \u001b[39m/\u001b[39m (batch_id \u001b[39m+\u001b[39m \u001b[39m1\u001b[39m),\n\u001b[0;32m     49\u001b[0m )\n\u001b[0;32m     51\u001b[0m \u001b[39mfor\u001b[39;00m name, value \u001b[39min\u001b[39;00m asdict(metrics)\u001b[39m.\u001b[39mitems():\n",
            "File \u001b[1;32mc:\\Users\\nicol\\Documents\\GitHub\\INF8225\\Project\\src\\training\\eval_model.py:23\u001b[0m, in \u001b[0;36meval_model\u001b[1;34m(model, data_loader, config)\u001b[0m\n\u001b[0;32m     21\u001b[0m \u001b[39m# since we're not training, we don't need to calculate the gradients for our outputs\u001b[39;00m\n\u001b[0;32m     22\u001b[0m \u001b[39mwith\u001b[39;00m torch\u001b[39m.\u001b[39mno_grad():\n\u001b[1;32m---> 23\u001b[0m     \u001b[39mfor\u001b[39;00m data \u001b[39min\u001b[39;00m data_loader:\n\u001b[0;32m     24\u001b[0m         inputs, labels \u001b[39m=\u001b[39m data\n\u001b[0;32m     25\u001b[0m         inputs, labels \u001b[39m=\u001b[39m inputs\u001b[39m.\u001b[39mto(device), labels\u001b[39m.\u001b[39mto(device)\n",
            "File \u001b[1;32mc:\\Users\\nicol\\anaconda3\\envs\\INF8225\\lib\\site-packages\\torch\\utils\\data\\dataloader.py:442\u001b[0m, in \u001b[0;36mDataLoader.__iter__\u001b[1;34m(self)\u001b[0m\n\u001b[0;32m    440\u001b[0m     \u001b[39mreturn\u001b[39;00m \u001b[39mself\u001b[39m\u001b[39m.\u001b[39m_iterator\n\u001b[0;32m    441\u001b[0m \u001b[39melse\u001b[39;00m:\n\u001b[1;32m--> 442\u001b[0m     \u001b[39mreturn\u001b[39;00m \u001b[39mself\u001b[39;49m\u001b[39m.\u001b[39;49m_get_iterator()\n",
            "File \u001b[1;32mc:\\Users\\nicol\\anaconda3\\envs\\INF8225\\lib\\site-packages\\torch\\utils\\data\\dataloader.py:388\u001b[0m, in \u001b[0;36mDataLoader._get_iterator\u001b[1;34m(self)\u001b[0m\n\u001b[0;32m    386\u001b[0m \u001b[39melse\u001b[39;00m:\n\u001b[0;32m    387\u001b[0m     \u001b[39mself\u001b[39m\u001b[39m.\u001b[39mcheck_worker_number_rationality()\n\u001b[1;32m--> 388\u001b[0m     \u001b[39mreturn\u001b[39;00m _MultiProcessingDataLoaderIter(\u001b[39mself\u001b[39;49m)\n",
            "File \u001b[1;32mc:\\Users\\nicol\\anaconda3\\envs\\INF8225\\lib\\site-packages\\torch\\utils\\data\\dataloader.py:1043\u001b[0m, in \u001b[0;36m_MultiProcessingDataLoaderIter.__init__\u001b[1;34m(self, loader)\u001b[0m\n\u001b[0;32m   1036\u001b[0m w\u001b[39m.\u001b[39mdaemon \u001b[39m=\u001b[39m \u001b[39mTrue\u001b[39;00m\n\u001b[0;32m   1037\u001b[0m \u001b[39m# NB: Process.start() actually take some time as it needs to\u001b[39;00m\n\u001b[0;32m   1038\u001b[0m \u001b[39m#     start a process and pass the arguments over via a pipe.\u001b[39;00m\n\u001b[0;32m   1039\u001b[0m \u001b[39m#     Therefore, we only add a worker to self._workers list after\u001b[39;00m\n\u001b[0;32m   1040\u001b[0m \u001b[39m#     it started, so that we do not call .join() if program dies\u001b[39;00m\n\u001b[0;32m   1041\u001b[0m \u001b[39m#     before it starts, and __del__ tries to join but will get:\u001b[39;00m\n\u001b[0;32m   1042\u001b[0m \u001b[39m#     AssertionError: can only join a started process.\u001b[39;00m\n\u001b[1;32m-> 1043\u001b[0m w\u001b[39m.\u001b[39;49mstart()\n\u001b[0;32m   1044\u001b[0m \u001b[39mself\u001b[39m\u001b[39m.\u001b[39m_index_queues\u001b[39m.\u001b[39mappend(index_queue)\n\u001b[0;32m   1045\u001b[0m \u001b[39mself\u001b[39m\u001b[39m.\u001b[39m_workers\u001b[39m.\u001b[39mappend(w)\n",
            "File \u001b[1;32mc:\\Users\\nicol\\anaconda3\\envs\\INF8225\\lib\\multiprocessing\\process.py:121\u001b[0m, in \u001b[0;36mBaseProcess.start\u001b[1;34m(self)\u001b[0m\n\u001b[0;32m    118\u001b[0m \u001b[39massert\u001b[39;00m \u001b[39mnot\u001b[39;00m _current_process\u001b[39m.\u001b[39m_config\u001b[39m.\u001b[39mget(\u001b[39m'\u001b[39m\u001b[39mdaemon\u001b[39m\u001b[39m'\u001b[39m), \\\n\u001b[0;32m    119\u001b[0m        \u001b[39m'\u001b[39m\u001b[39mdaemonic processes are not allowed to have children\u001b[39m\u001b[39m'\u001b[39m\n\u001b[0;32m    120\u001b[0m _cleanup()\n\u001b[1;32m--> 121\u001b[0m \u001b[39mself\u001b[39m\u001b[39m.\u001b[39m_popen \u001b[39m=\u001b[39m \u001b[39mself\u001b[39;49m\u001b[39m.\u001b[39;49m_Popen(\u001b[39mself\u001b[39;49m)\n\u001b[0;32m    122\u001b[0m \u001b[39mself\u001b[39m\u001b[39m.\u001b[39m_sentinel \u001b[39m=\u001b[39m \u001b[39mself\u001b[39m\u001b[39m.\u001b[39m_popen\u001b[39m.\u001b[39msentinel\n\u001b[0;32m    123\u001b[0m \u001b[39m# Avoid a refcycle if the target function holds an indirect\u001b[39;00m\n\u001b[0;32m    124\u001b[0m \u001b[39m# reference to the process object (see bpo-30775)\u001b[39;00m\n",
            "File \u001b[1;32mc:\\Users\\nicol\\anaconda3\\envs\\INF8225\\lib\\multiprocessing\\context.py:224\u001b[0m, in \u001b[0;36mProcess._Popen\u001b[1;34m(process_obj)\u001b[0m\n\u001b[0;32m    222\u001b[0m \u001b[39m@staticmethod\u001b[39m\n\u001b[0;32m    223\u001b[0m \u001b[39mdef\u001b[39;00m \u001b[39m_Popen\u001b[39m(process_obj):\n\u001b[1;32m--> 224\u001b[0m     \u001b[39mreturn\u001b[39;00m _default_context\u001b[39m.\u001b[39;49mget_context()\u001b[39m.\u001b[39;49mProcess\u001b[39m.\u001b[39;49m_Popen(process_obj)\n",
            "File \u001b[1;32mc:\\Users\\nicol\\anaconda3\\envs\\INF8225\\lib\\multiprocessing\\context.py:336\u001b[0m, in \u001b[0;36mSpawnProcess._Popen\u001b[1;34m(process_obj)\u001b[0m\n\u001b[0;32m    333\u001b[0m \u001b[39m@staticmethod\u001b[39m\n\u001b[0;32m    334\u001b[0m \u001b[39mdef\u001b[39;00m \u001b[39m_Popen\u001b[39m(process_obj):\n\u001b[0;32m    335\u001b[0m     \u001b[39mfrom\u001b[39;00m \u001b[39m.\u001b[39;00m\u001b[39mpopen_spawn_win32\u001b[39;00m \u001b[39mimport\u001b[39;00m Popen\n\u001b[1;32m--> 336\u001b[0m     \u001b[39mreturn\u001b[39;00m Popen(process_obj)\n",
            "File \u001b[1;32mc:\\Users\\nicol\\anaconda3\\envs\\INF8225\\lib\\multiprocessing\\popen_spawn_win32.py:93\u001b[0m, in \u001b[0;36mPopen.__init__\u001b[1;34m(self, process_obj)\u001b[0m\n\u001b[0;32m     91\u001b[0m \u001b[39mtry\u001b[39;00m:\n\u001b[0;32m     92\u001b[0m     reduction\u001b[39m.\u001b[39mdump(prep_data, to_child)\n\u001b[1;32m---> 93\u001b[0m     reduction\u001b[39m.\u001b[39;49mdump(process_obj, to_child)\n\u001b[0;32m     94\u001b[0m \u001b[39mfinally\u001b[39;00m:\n\u001b[0;32m     95\u001b[0m     set_spawning_popen(\u001b[39mNone\u001b[39;00m)\n",
            "File \u001b[1;32mc:\\Users\\nicol\\anaconda3\\envs\\INF8225\\lib\\multiprocessing\\reduction.py:60\u001b[0m, in \u001b[0;36mdump\u001b[1;34m(obj, file, protocol)\u001b[0m\n\u001b[0;32m     58\u001b[0m \u001b[39mdef\u001b[39;00m \u001b[39mdump\u001b[39m(obj, file, protocol\u001b[39m=\u001b[39m\u001b[39mNone\u001b[39;00m):\n\u001b[0;32m     59\u001b[0m \u001b[39m    \u001b[39m\u001b[39m'''Replacement for pickle.dump() using ForkingPickler.'''\u001b[39;00m\n\u001b[1;32m---> 60\u001b[0m     ForkingPickler(file, protocol)\u001b[39m.\u001b[39;49mdump(obj)\n",
            "\u001b[1;31mKeyboardInterrupt\u001b[0m: "
          ]
        }
      ],
      "source": [
        "!wandb online  # online / offline to activate or deactivate WandB logging\n",
        "\n",
        "wandb_config = asdict(config)\n",
        "wandb_config['model'] = str(config.model)\n",
        "wandb_config['residual_blocks'] = [str(block) for block in config.residual_blocks]\n",
        "\n",
        "with wandb.init(\n",
        "        config=wandb_config,\n",
        "        project='INF8225 - Project',\n",
        "        group='Resnet18',\n",
        "        save_code=True,\n",
        "    ):\n",
        "    train_model(config.model, config)"
      ]
    }
  ],
  "metadata": {
    "colab": {
      "provenance": []
    },
    "kernelspec": {
      "display_name": "Python 3",
      "name": "python3"
    },
    "language_info": {
      "codemirror_mode": {
        "name": "ipython",
        "version": 3
      },
      "file_extension": ".py",
      "mimetype": "text/x-python",
      "name": "python",
      "nbconvert_exporter": "python",
      "pygments_lexer": "ipython3",
      "version": "3.10.10"
    },
    "widgets": {
      "application/vnd.jupyter.widget-state+json": {
        "20d772e01eee4c14b88b9453a4f4d0de": {
          "model_module": "@jupyter-widgets/base",
          "model_module_version": "1.2.0",
          "model_name": "LayoutModel",
          "state": {
            "_model_module": "@jupyter-widgets/base",
            "_model_module_version": "1.2.0",
            "_model_name": "LayoutModel",
            "_view_count": null,
            "_view_module": "@jupyter-widgets/base",
            "_view_module_version": "1.2.0",
            "_view_name": "LayoutView",
            "align_content": null,
            "align_items": null,
            "align_self": null,
            "border": null,
            "bottom": null,
            "display": null,
            "flex": null,
            "flex_flow": null,
            "grid_area": null,
            "grid_auto_columns": null,
            "grid_auto_flow": null,
            "grid_auto_rows": null,
            "grid_column": null,
            "grid_gap": null,
            "grid_row": null,
            "grid_template_areas": null,
            "grid_template_columns": null,
            "grid_template_rows": null,
            "height": null,
            "justify_content": null,
            "justify_items": null,
            "left": null,
            "margin": null,
            "max_height": null,
            "max_width": null,
            "min_height": null,
            "min_width": null,
            "object_fit": null,
            "object_position": null,
            "order": null,
            "overflow": null,
            "overflow_x": null,
            "overflow_y": null,
            "padding": null,
            "right": null,
            "top": null,
            "visibility": null,
            "width": null
          }
        },
        "2d597b0b98af4404a7c280da9be2e1dd": {
          "model_module": "@jupyter-widgets/controls",
          "model_module_version": "1.5.0",
          "model_name": "HBoxModel",
          "state": {
            "_dom_classes": [],
            "_model_module": "@jupyter-widgets/controls",
            "_model_module_version": "1.5.0",
            "_model_name": "HBoxModel",
            "_view_count": null,
            "_view_module": "@jupyter-widgets/controls",
            "_view_module_version": "1.5.0",
            "_view_name": "HBoxView",
            "box_style": "",
            "children": [
              "IPY_MODEL_ca2826645e7241d6be5bc032de68471b",
              "IPY_MODEL_65d8103c47c04638a69b5a54eed2df26",
              "IPY_MODEL_8040dde64218489c880c4259f00bc3b5"
            ],
            "layout": "IPY_MODEL_6f314732fe0644299ab0cded185c51dc"
          }
        },
        "3859e5b2e39e4b8d9a30e0c229ed0a6c": {
          "model_module": "@jupyter-widgets/base",
          "model_module_version": "1.2.0",
          "model_name": "LayoutModel",
          "state": {
            "_model_module": "@jupyter-widgets/base",
            "_model_module_version": "1.2.0",
            "_model_name": "LayoutModel",
            "_view_count": null,
            "_view_module": "@jupyter-widgets/base",
            "_view_module_version": "1.2.0",
            "_view_name": "LayoutView",
            "align_content": null,
            "align_items": null,
            "align_self": null,
            "border": null,
            "bottom": null,
            "display": null,
            "flex": null,
            "flex_flow": null,
            "grid_area": null,
            "grid_auto_columns": null,
            "grid_auto_flow": null,
            "grid_auto_rows": null,
            "grid_column": null,
            "grid_gap": null,
            "grid_row": null,
            "grid_template_areas": null,
            "grid_template_columns": null,
            "grid_template_rows": null,
            "height": null,
            "justify_content": null,
            "justify_items": null,
            "left": null,
            "margin": null,
            "max_height": null,
            "max_width": null,
            "min_height": null,
            "min_width": null,
            "object_fit": null,
            "object_position": null,
            "order": null,
            "overflow": null,
            "overflow_x": null,
            "overflow_y": null,
            "padding": null,
            "right": null,
            "top": null,
            "visibility": null,
            "width": null
          }
        },
        "3a24219fc7a445ce94b61ea283389a63": {
          "model_module": "@jupyter-widgets/controls",
          "model_module_version": "1.5.0",
          "model_name": "ProgressStyleModel",
          "state": {
            "_model_module": "@jupyter-widgets/controls",
            "_model_module_version": "1.5.0",
            "_model_name": "ProgressStyleModel",
            "_view_count": null,
            "_view_module": "@jupyter-widgets/base",
            "_view_module_version": "1.2.0",
            "_view_name": "StyleView",
            "bar_color": null,
            "description_width": ""
          }
        },
        "6555507ad2e84ec0b555ce25b8a59492": {
          "model_module": "@jupyter-widgets/controls",
          "model_module_version": "1.5.0",
          "model_name": "DescriptionStyleModel",
          "state": {
            "_model_module": "@jupyter-widgets/controls",
            "_model_module_version": "1.5.0",
            "_model_name": "DescriptionStyleModel",
            "_view_count": null,
            "_view_module": "@jupyter-widgets/base",
            "_view_module_version": "1.2.0",
            "_view_name": "StyleView",
            "description_width": ""
          }
        },
        "65d8103c47c04638a69b5a54eed2df26": {
          "model_module": "@jupyter-widgets/controls",
          "model_module_version": "1.5.0",
          "model_name": "FloatProgressModel",
          "state": {
            "_dom_classes": [],
            "_model_module": "@jupyter-widgets/controls",
            "_model_module_version": "1.5.0",
            "_model_name": "FloatProgressModel",
            "_view_count": null,
            "_view_module": "@jupyter-widgets/controls",
            "_view_module_version": "1.5.0",
            "_view_name": "ProgressView",
            "bar_style": "success",
            "description": "",
            "description_tooltip": null,
            "layout": "IPY_MODEL_b632e95f15014998a214e66e42b3f461",
            "max": 170498071,
            "min": 0,
            "orientation": "horizontal",
            "style": "IPY_MODEL_3a24219fc7a445ce94b61ea283389a63",
            "value": 170498071
          }
        },
        "6cc1a693560f4aa3b449b1a6f35dc1e2": {
          "model_module": "@jupyter-widgets/controls",
          "model_module_version": "1.5.0",
          "model_name": "DescriptionStyleModel",
          "state": {
            "_model_module": "@jupyter-widgets/controls",
            "_model_module_version": "1.5.0",
            "_model_name": "DescriptionStyleModel",
            "_view_count": null,
            "_view_module": "@jupyter-widgets/base",
            "_view_module_version": "1.2.0",
            "_view_name": "StyleView",
            "description_width": ""
          }
        },
        "6f314732fe0644299ab0cded185c51dc": {
          "model_module": "@jupyter-widgets/base",
          "model_module_version": "1.2.0",
          "model_name": "LayoutModel",
          "state": {
            "_model_module": "@jupyter-widgets/base",
            "_model_module_version": "1.2.0",
            "_model_name": "LayoutModel",
            "_view_count": null,
            "_view_module": "@jupyter-widgets/base",
            "_view_module_version": "1.2.0",
            "_view_name": "LayoutView",
            "align_content": null,
            "align_items": null,
            "align_self": null,
            "border": null,
            "bottom": null,
            "display": null,
            "flex": null,
            "flex_flow": null,
            "grid_area": null,
            "grid_auto_columns": null,
            "grid_auto_flow": null,
            "grid_auto_rows": null,
            "grid_column": null,
            "grid_gap": null,
            "grid_row": null,
            "grid_template_areas": null,
            "grid_template_columns": null,
            "grid_template_rows": null,
            "height": null,
            "justify_content": null,
            "justify_items": null,
            "left": null,
            "margin": null,
            "max_height": null,
            "max_width": null,
            "min_height": null,
            "min_width": null,
            "object_fit": null,
            "object_position": null,
            "order": null,
            "overflow": null,
            "overflow_x": null,
            "overflow_y": null,
            "padding": null,
            "right": null,
            "top": null,
            "visibility": null,
            "width": null
          }
        },
        "8040dde64218489c880c4259f00bc3b5": {
          "model_module": "@jupyter-widgets/controls",
          "model_module_version": "1.5.0",
          "model_name": "HTMLModel",
          "state": {
            "_dom_classes": [],
            "_model_module": "@jupyter-widgets/controls",
            "_model_module_version": "1.5.0",
            "_model_name": "HTMLModel",
            "_view_count": null,
            "_view_module": "@jupyter-widgets/controls",
            "_view_module_version": "1.5.0",
            "_view_name": "HTMLView",
            "description": "",
            "description_tooltip": null,
            "layout": "IPY_MODEL_3859e5b2e39e4b8d9a30e0c229ed0a6c",
            "placeholder": "​",
            "style": "IPY_MODEL_6555507ad2e84ec0b555ce25b8a59492",
            "value": " 170498071/170498071 [00:03&lt;00:00, 65742024.15it/s]"
          }
        },
        "b632e95f15014998a214e66e42b3f461": {
          "model_module": "@jupyter-widgets/base",
          "model_module_version": "1.2.0",
          "model_name": "LayoutModel",
          "state": {
            "_model_module": "@jupyter-widgets/base",
            "_model_module_version": "1.2.0",
            "_model_name": "LayoutModel",
            "_view_count": null,
            "_view_module": "@jupyter-widgets/base",
            "_view_module_version": "1.2.0",
            "_view_name": "LayoutView",
            "align_content": null,
            "align_items": null,
            "align_self": null,
            "border": null,
            "bottom": null,
            "display": null,
            "flex": null,
            "flex_flow": null,
            "grid_area": null,
            "grid_auto_columns": null,
            "grid_auto_flow": null,
            "grid_auto_rows": null,
            "grid_column": null,
            "grid_gap": null,
            "grid_row": null,
            "grid_template_areas": null,
            "grid_template_columns": null,
            "grid_template_rows": null,
            "height": null,
            "justify_content": null,
            "justify_items": null,
            "left": null,
            "margin": null,
            "max_height": null,
            "max_width": null,
            "min_height": null,
            "min_width": null,
            "object_fit": null,
            "object_position": null,
            "order": null,
            "overflow": null,
            "overflow_x": null,
            "overflow_y": null,
            "padding": null,
            "right": null,
            "top": null,
            "visibility": null,
            "width": null
          }
        },
        "ca2826645e7241d6be5bc032de68471b": {
          "model_module": "@jupyter-widgets/controls",
          "model_module_version": "1.5.0",
          "model_name": "HTMLModel",
          "state": {
            "_dom_classes": [],
            "_model_module": "@jupyter-widgets/controls",
            "_model_module_version": "1.5.0",
            "_model_name": "HTMLModel",
            "_view_count": null,
            "_view_module": "@jupyter-widgets/controls",
            "_view_module_version": "1.5.0",
            "_view_name": "HTMLView",
            "description": "",
            "description_tooltip": null,
            "layout": "IPY_MODEL_20d772e01eee4c14b88b9453a4f4d0de",
            "placeholder": "​",
            "style": "IPY_MODEL_6cc1a693560f4aa3b449b1a6f35dc1e2",
            "value": "100%"
          }
        }
      }
    }
  },
  "nbformat": 4,
  "nbformat_minor": 0
}
